{
 "cells": [
  {
   "cell_type": "code",
   "execution_count": 4,
   "id": "563f1678",
   "metadata": {},
   "outputs": [
    {
     "name": "stdout",
     "output_type": "stream",
     "text": [
      "Enter the string : avijit\n"
     ]
    },
    {
     "data": {
      "text/plain": [
       "'tijiva'"
      ]
     },
     "execution_count": 4,
     "metadata": {},
     "output_type": "execute_result"
    }
   ],
   "source": [
    "#Q1 Write a code to reverse a string.\n",
    "\n",
    "string = str(input(\"Enter the string : \"))\n",
    "\n",
    "a=len(string)\n",
    "string[::-1]"
   ]
  },
  {
   "cell_type": "code",
   "execution_count": 6,
   "id": "56c25cc9",
   "metadata": {},
   "outputs": [
    {
     "name": "stdout",
     "output_type": "stream",
     "text": [
      "Enter the string: I am a student\n",
      "5\n"
     ]
    }
   ],
   "source": [
    "#Q2 Write a code to count the number of vowels in a string.\n",
    "\n",
    "vowels =['a','e','i','o','u','A','E','I','O','U']\n",
    "\n",
    "count = 0\n",
    "\n",
    "string= str(input(\"Enter the string: \"))\n",
    "\n",
    "for i in string:\n",
    "    if i in vowels:\n",
    "        count = count + 1\n",
    "        \n",
    "        \n",
    "        \n",
    "print(count)"
   ]
  },
  {
   "cell_type": "code",
   "execution_count": 7,
   "id": "0f4839d4",
   "metadata": {},
   "outputs": [
    {
     "name": "stdout",
     "output_type": "stream",
     "text": [
      "Enter the string: madam\n",
      "this string is a palindrom\n"
     ]
    }
   ],
   "source": [
    "#Q3  Write a code to check if a given string is a palindrome or not.\n",
    "\n",
    "string = str(input(\"Enter the string: \"))\n",
    "\n",
    "pali_str = string[::-1]\n",
    "\n",
    "if pali_str == string:\n",
    "    print(\"this string is a palindrom\")\n",
    "\n",
    "else:\n",
    "    print(\"this string is not a palindrom\")"
   ]
  },
  {
   "cell_type": "code",
   "execution_count": 8,
   "id": "68c42189",
   "metadata": {},
   "outputs": [
    {
     "name": "stdout",
     "output_type": "stream",
     "text": [
      "Enter the string1: listen\n",
      "Enter the string2: silent\n",
      "The two strings are  anagrams\n"
     ]
    }
   ],
   "source": [
    "#Q4   Write a code to check if two given strings are anagrams of each other.\n",
    "\n",
    "string1 = str(input(\"Enter the string1: \"))\n",
    "string2 = str(input(\"Enter the string2: \"))\n",
    "\n",
    "string1 = string1.lower()\n",
    "string2 = string2.lower()\n",
    "\n",
    "\n",
    "sorted_str1 = sorted(string1)\n",
    "sorted_str2 = sorted(string2)\n",
    "\n",
    "\n",
    "if (len(string1)==len(string2)):\n",
    "    \n",
    "    if(sorted_str1==sorted_str2):\n",
    "        print(\"The two strings are  anagrams\")\n",
    "        \n",
    "    else:\n",
    "        print(\"The two strings are not anagrams\")\n",
    "        \n",
    "        \n",
    "else:\n",
    "    print(\"The two strings are not anagrams\")\n",
    "        \n",
    "    \n",
    "    \n",
    "    "
   ]
  },
  {
   "cell_type": "code",
   "execution_count": 2,
   "id": "db21e777",
   "metadata": {},
   "outputs": [
    {
     "name": "stdout",
     "output_type": "stream",
     "text": [
      "Enter the string: i am a student, i am a boy\n",
      "Enter the substring: am\n"
     ]
    },
    {
     "data": {
      "text/plain": [
       "[2, 18]"
      ]
     },
     "execution_count": 2,
     "metadata": {},
     "output_type": "execute_result"
    }
   ],
   "source": [
    "#Q5  Write a code to find all occurrences of a given substring within another string.\n",
    "\n",
    "string = str(input(\"Enter the string: \"))\n",
    "substring= str(input(\"Enter the substring: \"))\n",
    "\n",
    "[i for i in range (len(string)) if string.startswith(substring,i)]\n"
   ]
  },
  {
   "cell_type": "code",
   "execution_count": 4,
   "id": "123873f3",
   "metadata": {},
   "outputs": [
    {
     "name": "stdout",
     "output_type": "stream",
     "text": [
      "Enter thr string: aaabdacced\n",
      " 3a1b1d1a2c1e1d\n"
     ]
    }
   ],
   "source": [
    "#Q6 Write a code to perform basic string compression using the counts of repeated characters\n",
    "\n",
    "\n",
    "string = str(input(\"Enter thr string: \"))\n",
    "count = 0\n",
    "ch = string[0]\n",
    "compressed_str = \" \"\n",
    "\n",
    "string = string + \" \"\n",
    "\n",
    "\n",
    "\n",
    "for i in string:\n",
    "    if i == ch:\n",
    "        count= count + 1\n",
    "    else:\n",
    "        compressed_str =compressed_str + str(count) +str(ch)\n",
    "        ch = i\n",
    "        count = 1\n",
    "\n",
    "print(compressed_str)\n",
    "\n",
    "\n"
   ]
  },
  {
   "cell_type": "code",
   "execution_count": 12,
   "id": "f99dfd08",
   "metadata": {},
   "outputs": [
    {
     "name": "stdout",
     "output_type": "stream",
     "text": [
      "Enter the string:abcdea\n",
      "unique characters not present\n"
     ]
    }
   ],
   "source": [
    "#Q7   Write a code to determine if a string has all unique characters.\n",
    "\n",
    "string = str(input(\"Enter the string:\" ))\n",
    "\n",
    "for i in range(len(string)):\n",
    "    for j in range(i+1, len(string)+1):\n",
    "        if (str(i)== str(j)):\n",
    "            print(\"unique characters present\")\n",
    "          \n",
    "        \n",
    "else:\n",
    "    print(\"unique characters not present\")\n",
    "            \n"
   ]
  },
  {
   "cell_type": "code",
   "execution_count": 14,
   "id": "b8108992",
   "metadata": {},
   "outputs": [
    {
     "name": "stdout",
     "output_type": "stream",
     "text": [
      "Enter the string: Avijit\n",
      "Avijit uppercase form AVIJIT\n",
      "Avijit lowercase form avijit\n"
     ]
    }
   ],
   "source": [
    "#Q8   Write a code to convert a given string to uppercase or lowercase.\n",
    "\n",
    "\n",
    "string = str(input(\"Enter the string: \"))\n",
    "\n",
    "upstring = string.upper()\n",
    "lowstring = string.lower()\n",
    "\n",
    "print(string + \" uppercase form \" + upstring )\n",
    "print(string + \" lowercase form \" + lowstring )"
   ]
  },
  {
   "cell_type": "code",
   "execution_count": 26,
   "id": "dfae6e56",
   "metadata": {},
   "outputs": [
    {
     "name": "stdout",
     "output_type": "stream",
     "text": [
      "Enter the string: I am a student\n",
      "total ward ot this string 4\n"
     ]
    }
   ],
   "source": [
    "#Q9   Write a code to count the number of words in a string\n",
    "\n",
    "\n",
    "string = str(input(\"Enter the string: \"))\n",
    "\n",
    "a = string.split(\" \")\n",
    "b = str(len(a))\n",
    "print(\"total ward ot this string \" + b )"
   ]
  },
  {
   "cell_type": "code",
   "execution_count": 28,
   "id": "5616ab78",
   "metadata": {},
   "outputs": [
    {
     "name": "stdout",
     "output_type": "stream",
     "text": [
      "enter the first string: Avijit\n",
      "enter the second string:  Giri\n",
      "Avijit Giri\n"
     ]
    }
   ],
   "source": [
    "#Q10   Write a code to concatenate two strings without using the + operator.\n",
    "\n",
    "\n",
    "string1 = str(input(\"enter the first string: \"))\n",
    "string2 = str(input(\"enter the second string:  \"))\n",
    "\n",
    "a=\" \".join([string1, string2])\n",
    "print(a)\n"
   ]
  },
  {
   "cell_type": "code",
   "execution_count": 7,
   "id": "06683bf2",
   "metadata": {},
   "outputs": [
    {
     "name": "stdout",
     "output_type": "stream",
     "text": [
      "[11, 22, 44, 55, 66, 77]\n"
     ]
    }
   ],
   "source": [
    "#Q11  Write a code to remove all occurrences of a specific element from a list.\n",
    "\n",
    "\n",
    "list1 =[11,22,33,44,55,66,33,77]\n",
    "rem_element = 33\n",
    "\n",
    "for i in list1:\n",
    "    if(i==rem_element):\n",
    "        list1.remove(rem_element)\n",
    "        \n",
    "      \n",
    "print(list1)"
   ]
  },
  {
   "cell_type": "code",
   "execution_count": 10,
   "id": "a48a443b",
   "metadata": {},
   "outputs": [
    {
     "name": "stdout",
     "output_type": "stream",
     "text": [
      "the second largest number in the list 89\n"
     ]
    }
   ],
   "source": [
    "#Q12   Implement a code to find the second largest number in a given list of integers.\n",
    "\n",
    "list=[11,44,34,54,76,89,99,54]\n",
    "new_list=list.remove(max(list))\n",
    "print(\"the second largest number in the list \" + str(max(list)))\n"
   ]
  },
  {
   "cell_type": "code",
   "execution_count": 25,
   "id": "0e0b4029",
   "metadata": {},
   "outputs": [
    {
     "name": "stdout",
     "output_type": "stream",
     "text": [
      "{'a', 'c', 'b', 'd'}\n",
      "[2, 2, 1, 1]\n"
     ]
    },
    {
     "data": {
      "text/plain": [
       "{'a': 2, 'c': 2, 'b': 1, 'd': 1}"
      ]
     },
     "execution_count": 25,
     "metadata": {},
     "output_type": "execute_result"
    }
   ],
   "source": [
    "#Q13    Create a code to count the occurrences of each element in a list and return a dictionary with elements as \n",
    "#         keys and their counts as values\n",
    "\n",
    "list =['a','b','c','d','a','c']\n",
    "\n",
    "g = []\n",
    "b = set(list)\n",
    "print(b)\n",
    "for i in b:\n",
    "    g.append(list.count(i))\n",
    "    \n",
    "    \n",
    "print(g)\n",
    "\n",
    "{x:y for x,y in zip(b,g)}\n",
    "      "
   ]
  },
  {
   "cell_type": "code",
   "execution_count": 1,
   "id": "9cae10f4",
   "metadata": {},
   "outputs": [
    {
     "data": {
      "text/plain": [
       "[9, 8, 7, 6, 5, 4, 3, 2, 1]"
      ]
     },
     "execution_count": 1,
     "metadata": {},
     "output_type": "execute_result"
    }
   ],
   "source": [
    "#Q14   Write a code to reverse a list in-place without using any built-in reverse functions.\n",
    "\n",
    "\n",
    "list = [1,2,3,4,5,6,7,8,9]\n",
    "\n",
    "list[::-1]\n"
   ]
  },
  {
   "cell_type": "code",
   "execution_count": 4,
   "id": "25cfcfd3",
   "metadata": {},
   "outputs": [
    {
     "name": "stdout",
     "output_type": "stream",
     "text": [
      "[1, 2, 3, 4, 5, 6, 7, 8, 9]\n"
     ]
    }
   ],
   "source": [
    "#Q15   Implement a code to find and remove duplicates from a list while preserving the original order of \n",
    "#           elements\n",
    "\n",
    "\n",
    "list = [1,2,3,1,4,5,2,6,2,3,4,7,8,9]\n",
    "\n",
    "unique_list = []\n",
    "\n",
    "for i in list:\n",
    "    if i not in unique_list:\n",
    "        unique_list.append(i)\n",
    "        \n",
    "        \n",
    "print(unique_list)"
   ]
  },
  {
   "cell_type": "code",
   "execution_count": 5,
   "id": "4769253f",
   "metadata": {},
   "outputs": [
    {
     "name": "stdout",
     "output_type": "stream",
     "text": [
      "not sorted\n"
     ]
    }
   ],
   "source": [
    "#Q16   Create a code to check if a given list is sorted (either in ascending or descending order) or not.\n",
    "\n",
    "list1 = [1,4,2,5,7,6,3,9]\n",
    "\n",
    "list2 = list1.sort()\n",
    "\n",
    "\n",
    "if list1==list2:\n",
    "    print(\"sorted\")\n",
    "else:\n",
    "    print(\"not sorted\")"
   ]
  },
  {
   "cell_type": "code",
   "execution_count": 18,
   "id": "fd476149",
   "metadata": {},
   "outputs": [
    {
     "name": "stdout",
     "output_type": "stream",
     "text": [
      "[1, 2, 2, 3, 4, 5, 6, 7, 8, 9, 11, 12, 13, 14, 15]\n"
     ]
    }
   ],
   "source": [
    "#Q17   Write a code to merge two sorted lists into a single sorted list.\n",
    "\n",
    "\n",
    "list1 =[1,3,2,4,2,5,6,7,9,8]\n",
    "list2 = sorted(list1)\n",
    "\n",
    "\n",
    "list3= [12,15,14,13,11]\n",
    "list4 = sorted(list3)\n",
    "\n",
    "\n",
    "list2.extend(list4)\n",
    "print(sorted(list2))"
   ]
  },
  {
   "cell_type": "code",
   "execution_count": 4,
   "id": "e2645d5b",
   "metadata": {},
   "outputs": [
    {
     "name": "stdout",
     "output_type": "stream",
     "text": [
      "[8, 5, 6, 7]\n"
     ]
    }
   ],
   "source": [
    "#Q18    Implement a code to find the intersection of two given lists.\n",
    "\n",
    "\n",
    "list1 = [1,2,3,4,5,6,7,8]\n",
    "list2 = [5,6,7,8,9]\n",
    "\n",
    "list3 = []\n",
    "set(list1)&set(list2)\n",
    "for i in set(list1)&set(list2):\n",
    "    list3.append(i)\n",
    "    \n",
    "print(list3)\n",
    "    "
   ]
  },
  {
   "cell_type": "code",
   "execution_count": 6,
   "id": "4ab516b4",
   "metadata": {},
   "outputs": [
    {
     "name": "stdout",
     "output_type": "stream",
     "text": [
      "[1, 2, 3, 4, 5, 6, 7, 8, 9]\n"
     ]
    }
   ],
   "source": [
    "#Q19   Create a code to find the union of two lists without duplicates.\n",
    "\n",
    "list1 = [1,2,3,4,5,6,7,8]\n",
    "list2 = [5,6,7,8,9]\n",
    "\n",
    "list3 = []\n",
    "set(list1)|set(list2)\n",
    "for i in set(list1)|set(list2):\n",
    "    list3.append(i)\n",
    "    \n",
    "print(list3)"
   ]
  },
  {
   "cell_type": "code",
   "execution_count": 15,
   "id": "59b13310",
   "metadata": {},
   "outputs": [
    {
     "name": "stdout",
     "output_type": "stream",
     "text": [
      "[8, 6, 5, 1, 4, 3, 7, 2, 9]\n"
     ]
    }
   ],
   "source": [
    "#Q20   Write a code to shuffle a given list randomly without using any built-in shuffle functions.\n",
    "\n",
    "import random\n",
    "\n",
    "\n",
    "list = [1,2,3,4,5,6,7,8,9]\n",
    "b = random.sample(list, len(list))\n",
    "\n",
    "print(b)"
   ]
  },
  {
   "cell_type": "code",
   "execution_count": 5,
   "id": "027ce6da",
   "metadata": {},
   "outputs": [
    {
     "data": {
      "text/plain": [
       "(5, 6, 7, 8, 9)"
      ]
     },
     "execution_count": 5,
     "metadata": {},
     "output_type": "execute_result"
    }
   ],
   "source": [
    "#Q21      Write a code that takes two tuples as input and returns a new tuple containing elements that are \n",
    "#          common to both input tuples.\n",
    "\n",
    "\n",
    "tuple1 = (1,2,3,4,5,6,7,8,9)\n",
    "tuple2 = (5,6,7,8,9)\n",
    "tuple3 = tuple(set(tuple1)&set(tuple2))\n",
    "\n",
    "tuple3\n"
   ]
  },
  {
   "cell_type": "code",
   "execution_count": 6,
   "id": "59bb540e",
   "metadata": {},
   "outputs": [
    {
     "name": "stdout",
     "output_type": "stream",
     "text": [
      "enter the set: 1,2,3,4,5\n",
      "enter the 2nd set: 4,5,6,7\n"
     ]
    },
    {
     "data": {
      "text/plain": [
       "{'4', '5'}"
      ]
     },
     "execution_count": 6,
     "metadata": {},
     "output_type": "execute_result"
    }
   ],
   "source": [
    "#Q22    Create a code that prompts the user to enter two sets of integers separated by commas. Then, print the \n",
    "#        intersection of these two sets.\n",
    "\n",
    "\n",
    "set1 = input(\"enter the set: \")\n",
    "set2 = input(\"enter the 2nd set: \")\n",
    "\n",
    "a = set(set1.split(\",\"))\n",
    "b = set(set2.split(\",\"))\n",
    "\n",
    "a&b"
   ]
  },
  {
   "cell_type": "code",
   "execution_count": 9,
   "id": "b5b11682",
   "metadata": {},
   "outputs": [
    {
     "name": "stdout",
     "output_type": "stream",
     "text": [
      "(1, 2, 3, 4, 5, 6, 7, 8, 9)\n"
     ]
    }
   ],
   "source": [
    "#Q23   Write a code to concatenate two tuples. The function should take two tuples as input and return a new \n",
    "#       tuple containing elements from both input tuples.\n",
    "\n",
    "\n",
    "\n",
    "def concatenate_tuple(x,y):\n",
    "    return x+y\n",
    "\n",
    "\n",
    "tuple1 = (1,2,3,4,5)\n",
    "\n",
    "tuple2 = (6,7,8,9)\n",
    "\n",
    "result = concatenate_tuple(tuple1,tuple2)\n",
    "print(result)"
   ]
  },
  {
   "cell_type": "code",
   "execution_count": 11,
   "id": "6bdf1cbe",
   "metadata": {},
   "outputs": [
    {
     "name": "stdout",
     "output_type": "stream",
     "text": [
      "enter the set: 1,2,3,4,5,6\n",
      "enter the set: 5,6,7,8,9\n",
      "3\n",
      "4\n",
      "1\n",
      "2\n"
     ]
    }
   ],
   "source": [
    "#Q24   Develop a code that prompts the user to input two sets of strings. Then, print the elements that are \n",
    "#           present in the first set but not in the second set.\n",
    "\n",
    "\n",
    "\n",
    "set1 = input(\"enter the set: \")\n",
    "set2 = input(\"enter the set: \")\n",
    "\n",
    "a = set(set1.split(\",\"))\n",
    "b = set(set2.split(\",\"))\n",
    "\n",
    "for i in (a-b):\n",
    "    print(i)"
   ]
  },
  {
   "cell_type": "code",
   "execution_count": 3,
   "id": "c2dab3de",
   "metadata": {},
   "outputs": [
    {
     "name": "stdout",
     "output_type": "stream",
     "text": [
      "enter the tuple: 1,2,3,4,5,6\n",
      "enter the start index value: 1\n",
      "enter the last index value: 5\n",
      "('2', '3', '4', '5', '6')\n"
     ]
    }
   ],
   "source": [
    "#Q25     Create a code that takes a tuple and two integers as input. The function should return a new tuple \n",
    "#          containing elements from the original tuple within the specified range of indices.\n",
    "\n",
    "\n",
    "\n",
    "\n",
    "tuple1 = input(\"enter the tuple: \")\n",
    "a = tuple(tuple1.split(\",\"))\n",
    "b = int(input(\"enter the start index value: \"))\n",
    "c = int(input(\"enter the last index value: \"))\n",
    "\n",
    "print(a[b:c+1])"
   ]
  },
  {
   "cell_type": "code",
   "execution_count": 4,
   "id": "5942048f",
   "metadata": {},
   "outputs": [
    {
     "name": "stdout",
     "output_type": "stream",
     "text": [
      "enter the set: a,b,c,d,e,f\n",
      "enter the set: g,h,i,a,b,c\n",
      "{'c', 'e', 'i', 'b', 'd', 'g', 'f', 'a', 'h'}\n"
     ]
    }
   ],
   "source": [
    "#Q26     Write a code that prompts the user to input two sets of characters. Then, print the union of these two sets.\n",
    "\n",
    "\n",
    "\n",
    "set1 = input(\"enter the set: \")\n",
    "set2 = input(\"enter the set: \")\n",
    "\n",
    "a = set(set1.split(\",\"))\n",
    "b = set(set2.split(\",\"))\n",
    "\n",
    "\n",
    "print(a|b)\n",
    "\n"
   ]
  },
  {
   "cell_type": "code",
   "execution_count": 3,
   "id": "4b6f5d16",
   "metadata": {},
   "outputs": [
    {
     "name": "stdout",
     "output_type": "stream",
     "text": [
      "enter the tuple: 1,2,3,4,5,6\n",
      "('1', '2', '3', '4', '5', '6')\n",
      "6\n",
      "1\n"
     ]
    }
   ],
   "source": [
    "#Q27    Develop a code that takes a tuple of integers as input. The function should return the maximum and \n",
    "#         minimum values from the tuple using tuple unpacking\n",
    "\n",
    "\n",
    "\n",
    "tuple1 = input(\"enter the tuple: \")\n",
    "a = tuple(tuple1.split(\",\"))\n",
    "print(a)\n",
    "print(max(a))\n",
    "print(min(a))\n"
   ]
  },
  {
   "cell_type": "code",
   "execution_count": 4,
   "id": "e4f68f10",
   "metadata": {},
   "outputs": [
    {
     "name": "stdout",
     "output_type": "stream",
     "text": [
      "enter the set: 1,2,3,4,5,6,7\n",
      "enter the set: 4,5,6,7,8,9\n",
      "{'3', '4', '7', '2', '8', '6', '5', '1', '9'}\n",
      "{'4', '7', '6', '5'}\n",
      "{'3', '1', '2'}\n"
     ]
    }
   ],
   "source": [
    "#Q28   Create a code that defines two sets of integers. Then, print the union, intersection, and difference of these \n",
    "#        two sets.\n",
    "\n",
    "\n",
    "set1 = input(\"enter the set: \")\n",
    "set2 = input(\"enter the set: \")\n",
    "\n",
    "a = set(set1.split(\",\"))\n",
    "b = set(set2.split(\",\"))\n",
    "\n",
    "print(a|b)\n",
    "print(a&b)\n",
    "print(a-b)"
   ]
  },
  {
   "cell_type": "code",
   "execution_count": 15,
   "id": "3316e4c0",
   "metadata": {},
   "outputs": [
    {
     "name": "stdout",
     "output_type": "stream",
     "text": [
      "enter the tuple: 1,2,3,4,1,5,3,4\n",
      "enter the value: 4\n",
      "2\n"
     ]
    }
   ],
   "source": [
    "#Q29    Write a code that takes a tuple and an element as input. The function should return the count of \n",
    "#         occurrences of the given element in the tuple.\n",
    "\n",
    "\n",
    "def count_occurrences(tup, x):\n",
    "    count = 0\n",
    "    for i in tup:\n",
    "        if i == x:\n",
    "            count = count + 1\n",
    "    return count\n",
    "\n",
    "\n",
    "\n",
    "\n",
    "tuple1 = input(\"enter the tuple: \")\n",
    "a = tuple(tuple1.split(\",\"))\n",
    "b = input(\"enter the value: \")\n",
    "\n",
    "\n",
    "print(count_occurrences(a,b))"
   ]
  },
  {
   "cell_type": "code",
   "execution_count": 16,
   "id": "902d49e5",
   "metadata": {},
   "outputs": [
    {
     "name": "stdout",
     "output_type": "stream",
     "text": [
      "enter the set: a,b,c,d,e\n",
      "enter the set: c,d,e,f,g\n",
      "{'b', 'g', 'a', 'f'}\n"
     ]
    }
   ],
   "source": [
    "#Q30    Develop a code that prompts the user to input two sets of strings. Then, print the symmetric difference of \n",
    "#        these two sets.\n",
    "\n",
    "\n",
    "set1 = input(\"enter the set: \")\n",
    "set2 = input(\"enter the set: \")\n",
    "\n",
    "a = set(set1.split(\",\"))\n",
    "b = set(set2.split(\",\"))\n",
    "\n",
    "print(a^b)"
   ]
  },
  {
   "cell_type": "code",
   "execution_count": 1,
   "id": "63716af9",
   "metadata": {},
   "outputs": [
    {
     "data": {
      "text/plain": [
       "{'abc': 2, 'ijk': 1, 'efg': 1, 'xyz': 3}"
      ]
     },
     "execution_count": 1,
     "metadata": {},
     "output_type": "execute_result"
    }
   ],
   "source": [
    "#Q31  Write a code that takes a list of words as input and returns a dictionary where the keys are unique words \n",
    "#      and the values are the frequencies of those words in the input list.\n",
    "\n",
    "\n",
    "\n",
    "list = ['abc','xyz','efg','abc','xyz','ijk','xyz']\n",
    "count=0\n",
    "a = []\n",
    "b = set(list)\n",
    "for i in b:\n",
    "    a.append(list.count(i))\n",
    "    \n",
    "    \n",
    "{x:y for x,y in zip(b,a)}\n",
    "\n"
   ]
  },
  {
   "cell_type": "code",
   "execution_count": 5,
   "id": "d7577b7f",
   "metadata": {},
   "outputs": [
    {
     "name": "stdout",
     "output_type": "stream",
     "text": [
      "{'a': 3, 'b': 1, 'c': 3, 'd': 4, 'e': 2}\n"
     ]
    }
   ],
   "source": [
    "#Q32   Write a code that takes two dictionaries as input and merges them into a single dictionary. If there are \n",
    "#       common keys, the values should be added together.\n",
    "\n",
    "\n",
    "\n",
    "dic1 = {'a':2,'b':1,'c':3}\n",
    "dic2 = {'d':4,'e':2,'a':1}\n",
    "\n",
    "dic3 = {}\n",
    "for key in dic2.keys():\n",
    "    if key in dic1.keys():\n",
    "        dic1[key] = dic1[key] + dic2[key]\n",
    "    else:\n",
    "        dic1[key] = dic2[key]\n",
    "        \n",
    "print(dic1)"
   ]
  },
  {
   "cell_type": "code",
   "execution_count": 10,
   "id": "6b829ca1",
   "metadata": {},
   "outputs": [
    {
     "name": "stdout",
     "output_type": "stream",
     "text": [
      "1\n"
     ]
    }
   ],
   "source": [
    "#Q33      Write a code to access a value in a nested dictionary. The function should take the dictionary and a list of \n",
    "#          keys as input, and return the corresponding value. If any of the keys do not exist in the dictionary, the \n",
    "#          function should return None.\n",
    "\n",
    "\n",
    "def access_value(dict,k_list):\n",
    "    \n",
    "    for key in k_list:\n",
    "        if key in dict.keys():\n",
    "            dict = dict[key]\n",
    "            \n",
    "        else:\n",
    "            return None\n",
    "        \n",
    "    return dict       \n",
    "        \n",
    "dict = {'a': {\n",
    "        'b': {\n",
    "            'c': 1\n",
    "        }\n",
    "}}\n",
    "\n",
    "k_list = ['a', 'b', 'c']\n",
    "print(access_value(dict,k_list))\n"
   ]
  },
  {
   "cell_type": "code",
   "execution_count": 11,
   "id": "6ea7e6f8",
   "metadata": {},
   "outputs": [
    {
     "name": "stdout",
     "output_type": "stream",
     "text": [
      "None\n"
     ]
    }
   ],
   "source": [
    "k_list =['x','y','z']\n",
    "print(access_value(dict,k_list))"
   ]
  },
  {
   "cell_type": "code",
   "execution_count": 21,
   "id": "4d016826",
   "metadata": {},
   "outputs": [
    {
     "name": "stdout",
     "output_type": "stream",
     "text": [
      "type 0 for ascending and 1 for descending: 1\n",
      "{'a': 5, 'e': 4, 'b': 3, 'd': 2, 'c': 1}\n"
     ]
    }
   ],
   "source": [
    "#Q34  Write a code that takes a dictionary as input and returns a sorted version of it based on the values. You \n",
    "#      can choose whether to sort in ascending or descending order.\n",
    "\n",
    "\n",
    "   \n",
    "\n",
    "dictionary = {'a':5,'b':3,'c':1,'d':2,'e':4}\n",
    "x = int(input(\"type 0 for ascending and 1 for descending: \"))\n",
    "\n",
    "sorted_items = sorted(dictionary.items(),key=lambda x:x[1],reverse=x)\n",
    "sorted_dict = {k:v for k,v in sorted_items}\n",
    "print(sorted_dict)\n",
    "   "
   ]
  },
  {
   "cell_type": "code",
   "execution_count": 24,
   "id": "b4d64511",
   "metadata": {},
   "outputs": [
    {
     "name": "stdout",
     "output_type": "stream",
     "text": [
      "{1: ['a'], 2: ['b', 'e'], 3: ['c'], 4: ['d']}\n"
     ]
    }
   ],
   "source": [
    "#Q35   Write a code that inverts a dictionary, swapping keys and values. Ensure that the inverted dictionary \n",
    "#      correctly handles cases where multiple keys have the same value by storing the keys as a list in the \n",
    "#       inverted dictionary.\n",
    "\n",
    "\n",
    "\n",
    "dict1 = {'a':1,'b':2,'c':3,'d':4,'e':2}\n",
    "dict2 = {}\n",
    "\n",
    "for k,v in dict1.items():\n",
    "    if v in dict2:\n",
    "        dict2[v].append(k)\n",
    "    else:\n",
    "        dict2[v] = [k]\n",
    "print(dict2)"
   ]
  },
  {
   "cell_type": "code",
   "execution_count": null,
   "id": "b61987dc",
   "metadata": {},
   "outputs": [],
   "source": []
  }
 ],
 "metadata": {
  "kernelspec": {
   "display_name": "Python 3 (ipykernel)",
   "language": "python",
   "name": "python3"
  },
  "language_info": {
   "codemirror_mode": {
    "name": "ipython",
    "version": 3
   },
   "file_extension": ".py",
   "mimetype": "text/x-python",
   "name": "python",
   "nbconvert_exporter": "python",
   "pygments_lexer": "ipython3",
   "version": "3.9.7"
  }
 },
 "nbformat": 4,
 "nbformat_minor": 5
}
