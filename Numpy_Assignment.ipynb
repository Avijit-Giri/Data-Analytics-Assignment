{
 "cells": [
  {
   "cell_type": "code",
   "execution_count": 1,
   "id": "1fce23e6",
   "metadata": {},
   "outputs": [],
   "source": [
    "import numpy as np\n",
    "import pandas as pd"
   ]
  },
  {
   "cell_type": "code",
   "execution_count": 6,
   "id": "6ef4b5c4",
   "metadata": {},
   "outputs": [
    {
     "name": "stdout",
     "output_type": "stream",
     "text": [
      "[1 2 3 4 5]\n"
     ]
    },
    {
     "data": {
      "text/plain": [
       "dtype('int32')"
      ]
     },
     "execution_count": 6,
     "metadata": {},
     "output_type": "execute_result"
    }
   ],
   "source": [
    "#Q1.Create a NumPy array 'arr' of integers from 0 to 5 and print its data type.\n",
    "\n",
    "\n",
    "arr = np.array([1,2,3,4,5])\n",
    "print(arr)\n",
    "arr.dtype"
   ]
  },
  {
   "cell_type": "code",
   "execution_count": 8,
   "id": "59c539d1",
   "metadata": {},
   "outputs": [
    {
     "data": {
      "text/plain": [
       "dtype('float64')"
      ]
     },
     "execution_count": 8,
     "metadata": {},
     "output_type": "execute_result"
    }
   ],
   "source": [
    "#Q2. Given a NumPy array 'arr', check if its data type is float64.\n",
    "#       arr = np.array([1.5, 2.6, 3.7])\n",
    "\n",
    "\n",
    "\n",
    "arr = np.array([1.5, 2.6, 3.7])\n",
    "arr.dtype"
   ]
  },
  {
   "cell_type": "code",
   "execution_count": 10,
   "id": "0fe27af8",
   "metadata": {},
   "outputs": [
    {
     "name": "stdout",
     "output_type": "stream",
     "text": [
      "[1.+2.j 2.+3.j 3.+4.j]\n"
     ]
    },
    {
     "data": {
      "text/plain": [
       "dtype('complex128')"
      ]
     },
     "execution_count": 10,
     "metadata": {},
     "output_type": "execute_result"
    }
   ],
   "source": [
    "#Q3.  Create a NumPy array 'arr' with a data type of complex128 containing three complex numbers.\n",
    "\n",
    "arr = np.array([1+2j,2+3j,3+4j])\n",
    "print(arr)\n",
    "arr.dtype"
   ]
  },
  {
   "cell_type": "code",
   "execution_count": 16,
   "id": "77193324",
   "metadata": {},
   "outputs": [
    {
     "name": "stdout",
     "output_type": "stream",
     "text": [
      "[1. 2. 3. 4. 5.]\n"
     ]
    },
    {
     "data": {
      "text/plain": [
       "dtype('float32')"
      ]
     },
     "execution_count": 16,
     "metadata": {},
     "output_type": "execute_result"
    }
   ],
   "source": [
    "#Q4. Convert an existing NumPy array 'arr' of integers to float32 data type.\n",
    "\n",
    "arr = np.array([1,2,3,4,5])\n",
    "arr1 = arr.astype(np.float32)\n",
    "print(arr1)\n",
    "arr1.dtype\n"
   ]
  },
  {
   "cell_type": "code",
   "execution_count": 19,
   "id": "aad8e892",
   "metadata": {},
   "outputs": [
    {
     "name": "stdout",
     "output_type": "stream",
     "text": [
      "[1.5 2.6 3.7]\n",
      "float64\n"
     ]
    },
    {
     "data": {
      "text/plain": [
       "dtype('float32')"
      ]
     },
     "execution_count": 19,
     "metadata": {},
     "output_type": "execute_result"
    }
   ],
   "source": [
    "#Q5. Given a NumPy array 'arr' with float64 data type, convert it to float32 to reduce decimal precision.\n",
    "\n",
    "arr = np.array([1.5, 2.6, 3.7])\n",
    "print(arr)\n",
    "print(arr.dtype)\n",
    "\n",
    "\n",
    "arr1 = arr.astype(np.float32)\n",
    "arr1.dtype"
   ]
  },
  {
   "cell_type": "code",
   "execution_count": 3,
   "id": "33440737",
   "metadata": {},
   "outputs": [
    {
     "name": "stdout",
     "output_type": "stream",
     "text": [
      "5\n",
      "(5,)\n",
      "int32\n",
      "8\n",
      "(2, 4)\n",
      "float64\n"
     ]
    }
   ],
   "source": [
    "#Q6. Write a function array_attributes that takes a NumPy array as input and returns its shape, size, and data \n",
    "# type.\n",
    "\n",
    "def array(a):\n",
    "    print(a.size)\n",
    "    print(a.shape)\n",
    "    print(a.dtype)\n",
    "\n",
    "\n",
    "arr = np.array([1,2,3,4,5])\n",
    "array(arr)\n",
    "arr1 = np.array([[1.1,2,3.3,4],[5.5,6,7.7,8]])\n",
    "array(arr1)"
   ]
  },
  {
   "cell_type": "code",
   "execution_count": 3,
   "id": "27085285",
   "metadata": {},
   "outputs": [
    {
     "data": {
      "text/plain": [
       "1"
      ]
     },
     "execution_count": 3,
     "metadata": {},
     "output_type": "execute_result"
    }
   ],
   "source": [
    "# Q7. Create a function array_dimension that takes a NumPy array as input and returns its dimensionality.\n",
    "\n",
    "\n",
    "def array_dimension(a):\n",
    "    return a.ndim\n",
    "\n",
    "\n",
    "\n",
    "arr = np.array([1,2,3,4,5])\n",
    "array_dimension(arr)\n",
    "\n",
    "\n"
   ]
  },
  {
   "cell_type": "code",
   "execution_count": 8,
   "id": "dd7db7f7",
   "metadata": {},
   "outputs": [
    {
     "name": "stdout",
     "output_type": "stream",
     "text": [
      "item size 4\n",
      "total size 24\n"
     ]
    }
   ],
   "source": [
    "#Q8. Design a function item_size_info that takes a NumPy array as input and returns the item size and the total \n",
    "#           size in bytes.\n",
    "\n",
    "\n",
    "def item_size(a):\n",
    "    item_size = a.itemsize\n",
    "    total_size = a.nbytes\n",
    "    return item_size, total_size\n",
    "\n",
    "\n",
    "a = np.array([[1, 2, 3], [4, 5, 6]])\n",
    "item_size, total_size = item_size(a)\n",
    "print(f\"item size {item_size}\")\n",
    "print(f\"total size {total_size}\")\n",
    "\n",
    "\n",
    "\n",
    "\n"
   ]
  },
  {
   "cell_type": "code",
   "execution_count": 13,
   "id": "4f79dac1",
   "metadata": {},
   "outputs": [
    {
     "name": "stdout",
     "output_type": "stream",
     "text": [
      "Array strides: (12, 4)\n"
     ]
    }
   ],
   "source": [
    "#Q9. Create a function array_strides that takes a NumPy array as input and returns the strides of the array.\n",
    "\n",
    "\n",
    "\n",
    "\n",
    "def array_strides(a):\n",
    "    return a.strides\n",
    "\n",
    "arr = np.array([[1, 2, 3], [4, 5, 6]])\n",
    "strides = array_strides(arr)\n",
    "print(f\"Array strides: {strides}\")\n",
    "\n",
    "\n",
    "\n",
    "\n",
    "\n"
   ]
  },
  {
   "cell_type": "code",
   "execution_count": 15,
   "id": "d03f5d04",
   "metadata": {},
   "outputs": [
    {
     "name": "stdout",
     "output_type": "stream",
     "text": [
      "shape:(2, 3) & strides:(12, 4)\n"
     ]
    }
   ],
   "source": [
    "#Q10. Design a function shape_stride_relationship that takes a NumPy array as input and returns the shape \n",
    "#    and strides of the array.\n",
    "\n",
    "\n",
    "def shape_stride_relationship(a):\n",
    "    shape = a.shape\n",
    "    strides = a.strides\n",
    "    print(f\"shape:{shape} & strides:{strides}\")\n",
    "arr = np.array([[1, 2, 3], [4, 5, 6]])\n",
    "shape_stride_relationship(arr)\n",
    "    \n",
    "\n",
    "\n",
    "\n"
   ]
  },
  {
   "cell_type": "code",
   "execution_count": 16,
   "id": "c762946d",
   "metadata": {},
   "outputs": [
    {
     "name": "stdout",
     "output_type": "stream",
     "text": [
      "enter a integer number : 10\n"
     ]
    },
    {
     "data": {
      "text/plain": [
       "array([0., 0., 0., 0., 0., 0., 0., 0., 0., 0.])"
      ]
     },
     "execution_count": 16,
     "metadata": {},
     "output_type": "execute_result"
    }
   ],
   "source": [
    "#Q11. Create a function `create_zeros_array` that takes an integer `n` as input and returns a NumPy array of \n",
    "#    zeros with `n` elements.\n",
    "\n",
    "\n",
    "def create_zeros_array(n):\n",
    "    return np.zeros(n)\n",
    "a = int(input(\"enter a integer number : \"))\n",
    "create_zeros_array(a)\n",
    "\n",
    "\n"
   ]
  },
  {
   "cell_type": "code",
   "execution_count": 17,
   "id": "6682a2bf",
   "metadata": {},
   "outputs": [
    {
     "name": "stdout",
     "output_type": "stream",
     "text": [
      "enter a integer row number : 10\n",
      "enter a integer colum number : 10\n"
     ]
    },
    {
     "data": {
      "text/plain": [
       "array([[1., 1., 1., 1., 1., 1., 1., 1., 1., 1.],\n",
       "       [1., 1., 1., 1., 1., 1., 1., 1., 1., 1.],\n",
       "       [1., 1., 1., 1., 1., 1., 1., 1., 1., 1.],\n",
       "       [1., 1., 1., 1., 1., 1., 1., 1., 1., 1.],\n",
       "       [1., 1., 1., 1., 1., 1., 1., 1., 1., 1.],\n",
       "       [1., 1., 1., 1., 1., 1., 1., 1., 1., 1.],\n",
       "       [1., 1., 1., 1., 1., 1., 1., 1., 1., 1.],\n",
       "       [1., 1., 1., 1., 1., 1., 1., 1., 1., 1.],\n",
       "       [1., 1., 1., 1., 1., 1., 1., 1., 1., 1.],\n",
       "       [1., 1., 1., 1., 1., 1., 1., 1., 1., 1.]])"
      ]
     },
     "execution_count": 17,
     "metadata": {},
     "output_type": "execute_result"
    }
   ],
   "source": [
    "#Q12. Write a function `create_ones_matrix` that takes integers `rows` and `cols` as inputs and generates a 2D \n",
    "#      NumPy array filled with ones of size `rows x cols`.\n",
    "\n",
    "\n",
    "def create_ones_matrix(x,y):\n",
    "    return np.ones((x,y))\n",
    "rows = int(input(\"enter a integer row number : \"))\n",
    "cols = int(input(\"enter a integer colum number : \"))\n",
    "create_ones_matrix(rows,cols)\n",
    "    "
   ]
  },
  {
   "cell_type": "code",
   "execution_count": 23,
   "id": "77daae91",
   "metadata": {},
   "outputs": [
    {
     "name": "stdout",
     "output_type": "stream",
     "text": [
      "enter the start value : 1\n",
      "enter the stop value : 20\n",
      "enter the step value : 3\n"
     ]
    },
    {
     "data": {
      "text/plain": [
       "array([ 1,  4,  7, 10, 13, 16, 19])"
      ]
     },
     "execution_count": 23,
     "metadata": {},
     "output_type": "execute_result"
    }
   ],
   "source": [
    "#Q13. Write a function `generate_range_array` that takes three integers start, stop, and step as arguments and \n",
    "#     creates a NumPy array with a range starting from `start`, ending at stop (exclusive), and with the specified \n",
    "#      `step`.\n",
    "\n",
    "def generate_range_array(start, stop, step):\n",
    "    return np.arange(start, stop, step)\n",
    "start = int(input(\"enter the start value : \"))\n",
    "stop = int(input(\"enter the stop value : \"))\n",
    "step = int(input(\"enter the step value : \"))\n",
    "generate_range_array(start, stop, step)\n",
    "\n",
    "    \n",
    "    \n",
    "\n",
    "\n"
   ]
  },
  {
   "cell_type": "code",
   "execution_count": 25,
   "id": "13e5ca66",
   "metadata": {},
   "outputs": [
    {
     "name": "stdout",
     "output_type": "stream",
     "text": [
      "enter the start value : 4\n",
      "enter the stop value : 62\n",
      "enter the num value : 9\n"
     ]
    },
    {
     "data": {
      "text/plain": [
       "array([ 4.  , 11.25, 18.5 , 25.75, 33.  , 40.25, 47.5 , 54.75, 62.  ])"
      ]
     },
     "execution_count": 25,
     "metadata": {},
     "output_type": "execute_result"
    }
   ],
   "source": [
    " #Q14. Design a function `generate_linear_space` that takes two floats `start`, `stop`, and an integer `num` as \n",
    "#      arguments and generates a NumPy array with num equally spaced values between `start` and `stop` \n",
    "#      (inclusive).\n",
    "\n",
    "\n",
    "def generate_linear_space(start, stop, num):\n",
    "    return np.linspace(start, stop, num)\n",
    "start = int(input(\"enter the start value : \"))\n",
    "stop = int(input(\"enter the stop value : \"))\n",
    "num = int(input(\"enter the num value : \"))\n",
    "generate_linear_space(start,stop,num)"
   ]
  },
  {
   "cell_type": "code",
   "execution_count": 3,
   "id": "55bc1dc5",
   "metadata": {},
   "outputs": [
    {
     "name": "stdout",
     "output_type": "stream",
     "text": [
      "enter a value : 4\n"
     ]
    },
    {
     "data": {
      "text/plain": [
       "array([[1., 0., 0., 0.],\n",
       "       [0., 1., 0., 0.],\n",
       "       [0., 0., 1., 0.],\n",
       "       [0., 0., 0., 1.]])"
      ]
     },
     "execution_count": 3,
     "metadata": {},
     "output_type": "execute_result"
    }
   ],
   "source": [
    "#Q15. Create a function `create_identity_matrix` that takes an integer `n` as input and generates a square \n",
    "#     identity matrix of size `n x n` using `numpy.eye`.\n",
    "\n",
    "\n",
    "def create_identity_matrix(n):\n",
    "    return np.eye(n)\n",
    "\n",
    "n= int(input(\"enter a value : \"))\n",
    "create_identity_matrix(n)\n",
    "\n"
   ]
  },
  {
   "cell_type": "code",
   "execution_count": 4,
   "id": "f94dab6a",
   "metadata": {},
   "outputs": [
    {
     "data": {
      "text/plain": [
       "array([1, 2, 3, 4, 5, 6, 7, 8, 9])"
      ]
     },
     "execution_count": 4,
     "metadata": {},
     "output_type": "execute_result"
    }
   ],
   "source": [
    "#Q16.Write a function that takes a Python list and converts it into a NumPy array.\n",
    "\n",
    "def list_to_array(l):\n",
    "    return np.array(l)\n",
    "\n",
    "list=[1,2,3,4,5,6,7,8,9]\n",
    "list_to_array(list)"
   ]
  },
  {
   "cell_type": "code",
   "execution_count": 6,
   "id": "c73e36e9",
   "metadata": {},
   "outputs": [
    {
     "name": "stdout",
     "output_type": "stream",
     "text": [
      "[1 2 3 4 5]\n",
      "view array:  [1 2 3 4 5]\n",
      "view array after modifi:  [ 1 10  3  4  5]\n",
      "array after modifi the view array:  [ 1 10  3  4  5]\n"
     ]
    }
   ],
   "source": [
    "#Q17.Create a NumPy array and demonstrate the use of `numpy.view` to create a new array object with the \n",
    "#      same data.\n",
    "\n",
    "\n",
    "arr = np.array([1,2,3,4,5])\n",
    "print(arr)\n",
    "arr1 = arr.view()\n",
    "print(\"view array: \",arr1)\n",
    "\n",
    "arr1[1] = 10\n",
    "print(\"view array after modifi: \",arr1)\n",
    "print(\"array after modifi the view array: \",arr)"
   ]
  },
  {
   "cell_type": "code",
   "execution_count": 9,
   "id": "c7253188",
   "metadata": {},
   "outputs": [
    {
     "name": "stdout",
     "output_type": "stream",
     "text": [
      " choose 0(row) or 1(colum)  for concatenate the arrays: 1\n"
     ]
    },
    {
     "data": {
      "text/plain": [
       "array([[1, 2, 5, 6],\n",
       "       [3, 4, 7, 8]])"
      ]
     },
     "execution_count": 9,
     "metadata": {},
     "output_type": "execute_result"
    }
   ],
   "source": [
    "#Q18. Write a function that takes two NumPy arrays and concatenates them along a specified axis.\n",
    "\n",
    "\n",
    "def concatenate_array(a1, a2, ax):\n",
    "    return np.concatenate((a1, a2), axis=ax)\n",
    "\n",
    "arr1 = np.array([[1, 2], [3, 4]])\n",
    "arr2 = np.array([[5, 6], [7, 8]])\n",
    "axis = int(input(\" choose 0(row) or 1(colum)  for concatenate the arrays: \"))\n",
    "concatenate_array(arr1, arr2, axis)\n",
    "    "
   ]
  },
  {
   "cell_type": "code",
   "execution_count": 10,
   "id": "3664b57b",
   "metadata": {},
   "outputs": [
    {
     "name": "stdout",
     "output_type": "stream",
     "text": [
      " choose 0(row) or 1(colum)  for concatenate the arrays: 0\n"
     ]
    },
    {
     "data": {
      "text/plain": [
       "array([[1, 2],\n",
       "       [3, 4],\n",
       "       [5, 6],\n",
       "       [7, 8]])"
      ]
     },
     "execution_count": 10,
     "metadata": {},
     "output_type": "execute_result"
    }
   ],
   "source": [
    "def concatenate_array(a1, a2, ax):\n",
    "    return np.concatenate((a1, a2), axis=ax)\n",
    "\n",
    "arr1 = np.array([[1, 2], [3, 4]])\n",
    "arr2 = np.array([[5, 6], [7, 8]])\n",
    "axis = int(input(\" choose 0(row) or 1(colum)  for concatenate the arrays: \"))\n",
    "concatenate_array(arr1, arr2, axis)\n",
    "    "
   ]
  },
  {
   "cell_type": "code",
   "execution_count": 17,
   "id": "01ab0df9",
   "metadata": {},
   "outputs": [
    {
     "name": "stdout",
     "output_type": "stream",
     "text": [
      "array 1:\n",
      " [[1 2]\n",
      " [3 4]\n",
      " [5 6]]\n",
      "array 2:\n",
      " [[7]\n",
      " [8]\n",
      " [9]]\n",
      "concatenate array:\n",
      " [[1 2 7]\n",
      " [3 4 8]\n",
      " [5 6 9]]\n"
     ]
    }
   ],
   "source": [
    "#Q19.Create two NumPy arrays with different shapes and concatenate them horizontally using `numpy.\n",
    "#     concatenate`.\n",
    "\n",
    "arr1 = np.array([[1, 2], [3, 4], [5, 6]])\n",
    "arr2 = np.array([[7], [8], [9]])\n",
    "print(\"array 1:\\n\",arr1)\n",
    "\n",
    "print(\"array 2:\\n\",arr2)\n",
    "\n",
    "arr3 = np.concatenate((arr1, arr2), axis=1)\n",
    "print(\"concatenate array:\\n\",arr3)"
   ]
  },
  {
   "cell_type": "code",
   "execution_count": 3,
   "id": "e1ff498e",
   "metadata": {},
   "outputs": [
    {
     "data": {
      "text/plain": [
       "array([[1, 2, 3],\n",
       "       [4, 5, 6],\n",
       "       [7, 8, 9]])"
      ]
     },
     "execution_count": 3,
     "metadata": {},
     "output_type": "execute_result"
    }
   ],
   "source": [
    "#Q20. Write a function that vertically stacks multiple NumPy arrays given as a list.\n",
    "\n",
    "def vertically_stacks(array):\n",
    "     return np.vstack(array)\n",
    "    \n",
    "arr = [np.array([1, 2, 3]), np.array([4, 5, 6]), np.array([7, 8, 9])]\n",
    "vertically_stacks(arr)"
   ]
  },
  {
   "cell_type": "code",
   "execution_count": 5,
   "id": "c7aa3f0d",
   "metadata": {},
   "outputs": [
    {
     "name": "stdout",
     "output_type": "stream",
     "text": [
      "Enter the start value: 1\n",
      "enter the end value: 20\n",
      "enter the step value: 2\n"
     ]
    },
    {
     "data": {
      "text/plain": [
       "array([ 1,  3,  5,  7,  9, 11, 13, 15, 17, 19, 21])"
      ]
     },
     "execution_count": 5,
     "metadata": {},
     "output_type": "execute_result"
    }
   ],
   "source": [
    "#Q21. Write a Python function using NumPy to create an array of integers within a specified range (inclusive) \n",
    "#      with a given step size.\n",
    "\n",
    "\n",
    "def creat_array(start,end,step):\n",
    "    return np.arange(start,end+1,step)\n",
    "\n",
    "start = int(input(\"Enter the start value: \"))\n",
    "end = int(input(\"enter the end value: \"))\n",
    "step = int(input(\"enter the step value: \"))\n",
    "creat_array(start,end+1,step)"
   ]
  },
  {
   "cell_type": "code",
   "execution_count": 3,
   "id": "8c22ed3e",
   "metadata": {},
   "outputs": [
    {
     "data": {
      "text/plain": [
       "array([0.        , 0.11111111, 0.22222222, 0.33333333, 0.44444444,\n",
       "       0.55555556, 0.66666667, 0.77777778, 0.88888889, 1.        ])"
      ]
     },
     "execution_count": 3,
     "metadata": {},
     "output_type": "execute_result"
    }
   ],
   "source": [
    "#Q 22. Write a Python function using NumPy to generate an array of 10 equally spaced values between 0 and 1\n",
    "\n",
    "def array_equally_spaced():\n",
    "    return np.linspace(0,1,10)\n",
    "\n",
    "array_equally_spaced()"
   ]
  },
  {
   "cell_type": "code",
   "execution_count": 4,
   "id": "44e566a1",
   "metadata": {},
   "outputs": [
    {
     "data": {
      "text/plain": [
       "array([   1.        ,    5.62341325,   31.6227766 ,  177.827941  ,\n",
       "       1000.        ])"
      ]
     },
     "execution_count": 4,
     "metadata": {},
     "output_type": "execute_result"
    }
   ],
   "source": [
    "#Q23.  Write a Python function using NumPy to create an array of 5 logarithmically spaced values between 1 and \n",
    "#         1000 (inclusive).\n",
    "\n",
    "\n",
    "\n",
    "def log_spaced_array():\n",
    "    return np.logspace(0, 3, 5)\n",
    "log_spaced_array()\n",
    "\n"
   ]
  },
  {
   "cell_type": "code",
   "execution_count": 5,
   "id": "5759d597",
   "metadata": {},
   "outputs": [
    {
     "name": "stdout",
     "output_type": "stream",
     "text": [
      "   Column1  Column2  Column3\n",
      "0       65       39       58\n",
      "1       96       69       88\n",
      "2       89       89       20\n",
      "3       43       67       46\n",
      "4       41       67        2\n"
     ]
    }
   ],
   "source": [
    "#Q24.  Create a Pandas DataFrame using a NumPy array that contains 5 rows and 3 columns, where the values \n",
    "#       are random integers between 1 and 100.\n",
    "\n",
    "\n",
    "array = np.random.randint(1, 101, size=(5, 3))\n",
    "\n",
    "df = pd.DataFrame(array, columns=['Column1', 'Column2', 'Column3'])\n",
    "\n",
    "print(df)\n"
   ]
  },
  {
   "cell_type": "code",
   "execution_count": 11,
   "id": "d0be6d7e",
   "metadata": {},
   "outputs": [
    {
     "name": "stdout",
     "output_type": "stream",
     "text": [
      "Original DataFrame: \n",
      "    A  B   C\n",
      "0  1 -1  10\n",
      "1 -2  2 -20\n",
      "2  3 -3  30\n",
      "3 -4  4 -40\n",
      "4  5 -5  50\n",
      "DataFrame after replacing negatives in column 'B': \n",
      "    A  B   C\n",
      "0  1 -1  10\n",
      "1 -2  2   0\n",
      "2  3 -3  30\n",
      "3 -4  4   0\n",
      "4  5 -5  50\n"
     ]
    }
   ],
   "source": [
    "#Q25. Write a function that takes a Pandas DataFrame and replaces all negative values in a specific column \n",
    "#     with zeros. Use NumPy operations within the Pandas DataFrame.\n",
    "\n",
    "\n",
    "def negative_to_zerro(df,column_name):\n",
    "    df[column_name] = np.where(df[column_name] < 0, 0, df[column_name])\n",
    "    return df\n",
    "data = {\n",
    "    'A': [1, -2, 3, -4, 5],\n",
    "    'B': [-1, 2, -3, 4, -5],\n",
    "    'C': [10, -20, 30, -40, 50]\n",
    "}\n",
    "df = pd.DataFrame(data)\n",
    "\n",
    "print(\"Original DataFrame: \\n\",df)\n",
    "df = negative_to_zerro(df,'C')\n",
    "print(\"DataFrame after replacing negatives in column 'B': \\n\",df)"
   ]
  },
  {
   "cell_type": "code",
   "execution_count": 12,
   "id": "89a0d45c",
   "metadata": {},
   "outputs": [
    {
     "name": "stdout",
     "output_type": "stream",
     "text": [
      "30\n"
     ]
    }
   ],
   "source": [
    "#Q26. Access the 3rd element from the given NumPy array.\n",
    "#      arr = np.array([10, 20, 30, 40, 50])\n",
    "\n",
    "\n",
    "\n",
    "arr = np.array([10, 20, 30, 40, 50])\n",
    "\n",
    "third_element = arr[2]\n",
    "print(third_element)"
   ]
  },
  {
   "cell_type": "code",
   "execution_count": 13,
   "id": "da0c23a6",
   "metadata": {},
   "outputs": [
    {
     "data": {
      "text/plain": [
       "6"
      ]
     },
     "execution_count": 13,
     "metadata": {},
     "output_type": "execute_result"
    }
   ],
   "source": [
    "#Q27. Retrieve the element at index (1, 2) from the 2D NumPy array.\n",
    "#       arr_2d = np.array([[1, 2, 3],\n",
    "#                          [4, 5, 6],\n",
    "#                          [7, 8, 9]])\n",
    "\n",
    "arr_2d = np.array([[1, 2, 3],[4, 5, 6],[7, 8, 9]])\n",
    "    \n",
    "arr_2d[1,2]"
   ]
  },
  {
   "cell_type": "code",
   "execution_count": 2,
   "id": "bdd8916f",
   "metadata": {},
   "outputs": [
    {
     "data": {
      "text/plain": [
       "array([ 8, 10,  7])"
      ]
     },
     "execution_count": 2,
     "metadata": {},
     "output_type": "execute_result"
    }
   ],
   "source": [
    "#Q28. Using boolean indexing, extract elements greater than 5 from the given NumPy array.\n",
    "#           arr = np.array([3, 8, 2, 10, 5, 7])\n",
    "\n",
    "\n",
    "arr = np.array([3, 8, 2, 10, 5, 7])\n",
    "ARR =arr>5\n",
    "result = arr[ARR]\n",
    "result\n",
    "    \n"
   ]
  },
  {
   "cell_type": "code",
   "execution_count": 3,
   "id": "43c2bdeb",
   "metadata": {},
   "outputs": [
    {
     "data": {
      "text/plain": [
       "array([3, 4, 5, 6])"
      ]
     },
     "execution_count": 3,
     "metadata": {},
     "output_type": "execute_result"
    }
   ],
   "source": [
    "#Q29.  Perform basic slicing to extract elements from index 2 to 5 (inclusive) from the given NumPy array.\n",
    "#          arr = np.array([1, 2, 3, 4, 5, 6, 7, 8, 9])\n",
    "\n",
    "\n",
    "\n",
    "arr = np.array([1, 2, 3, 4, 5, 6, 7, 8, 9])\n",
    "arr[2:6]"
   ]
  },
  {
   "cell_type": "code",
   "execution_count": 9,
   "id": "1593a1cc",
   "metadata": {},
   "outputs": [
    {
     "name": "stdout",
     "output_type": "stream",
     "text": [
      "[[2 3]\n",
      " [5 6]]\n"
     ]
    }
   ],
   "source": [
    "#30. Slice the 2D NumPy array to extract the sub-array `[[2, 3], [5, 6]]` from the given array.\n",
    "#             arr_2d = np.array([[1, 2, 3],\n",
    "#                                [4, 5, 6],\n",
    "#                                [7, 8, 9]])\n",
    "\n",
    "\n",
    "arr_2d = np.array([[1, 2, 3],\n",
    "                   [4, 5, 6],\n",
    "                   [7, 8, 9]])\n",
    "\n",
    "    \n",
    "sub_array = arr_2d[0:2, 1:3]\n",
    "print(sub_array)\n",
    "\n"
   ]
  },
  {
   "cell_type": "code",
   "execution_count": 2,
   "id": "54b90581",
   "metadata": {},
   "outputs": [
    {
     "name": "stdout",
     "output_type": "stream",
     "text": [
      "[[[1 1]\n",
      "  [5 5]]\n",
      "\n",
      " [[9 9]\n",
      "  [3 3]]]\n"
     ]
    }
   ],
   "source": [
    "#31.  Write a NumPy function to extract elements in specific order from a given 2D array based on indices \n",
    "#        provided in another array.\n",
    "\n",
    "\n",
    "\n",
    "def extract_elements(arr, indices):\n",
    "   \n",
    "    extracted_elements = np.empty(indices.shape, dtype=arr.dtype)\n",
    "    \n",
    "    \n",
    "    for i in range(indices.shape[0]):\n",
    "        for j in range(indices.shape[1]):\n",
    "            row, col = indices[i, j]\n",
    "            extracted_elements[i, j] = arr[row, col]\n",
    "    \n",
    "    return extracted_elements\n",
    "\n",
    "\n",
    "arr = np.array([\n",
    "    [1, 2, 3],\n",
    "    [4, 5, 6],\n",
    "    [7, 8, 9]\n",
    "])\n",
    "\n",
    "indices = np.array([\n",
    "    [(0, 0), (1, 1)],\n",
    "    [(2, 2), (0, 2)]\n",
    "])\n",
    "\n",
    "extracted = extract_elements(arr, indices)\n",
    "print(extracted)\n"
   ]
  },
  {
   "cell_type": "code",
   "execution_count": 7,
   "id": "7c33965d",
   "metadata": {},
   "outputs": [
    {
     "data": {
      "text/plain": [
       "array([5, 6, 7, 8, 9])"
      ]
     },
     "execution_count": 7,
     "metadata": {},
     "output_type": "execute_result"
    }
   ],
   "source": [
    "#Q32. Create a NumPy function that filters elements greater than a threshold from a given 1D array using \n",
    "#      boolean indexing.\n",
    "\n",
    "\n",
    "def filters_elements_greater(arr,threshold):\n",
    "    elements = arr[arr > threshold]\n",
    "    return elements\n",
    "\n",
    "arr = np.array([1,2,3,4,5,6,7,8,9])\n",
    "threshold = 4\n",
    "filters_elements_greater(arr,threshold)"
   ]
  },
  {
   "cell_type": "code",
   "execution_count": 9,
   "id": "348eb8b9",
   "metadata": {},
   "outputs": [
    {
     "data": {
      "text/plain": [
       "array([ 6, 11, 25])"
      ]
     },
     "execution_count": 9,
     "metadata": {},
     "output_type": "execute_result"
    }
   ],
   "source": [
    "#Q33.  Develop a NumPy function that extracts specific elements from a 3D array using indices provided in three \n",
    "#      separate arrays for each dimension.\n",
    "\n",
    "def extract_elements_3d(arr, x_indices, y_indices, z_indices):\n",
    "    if not (x_indices.shape == y_indices.shape == z_indices.shape):\n",
    "        raise ValueError(\"Index arrays must have the same shape\")\n",
    "    extracted_elements = arr[x_indices, y_indices, z_indices]\n",
    "    return extracted_elements   \n",
    "\n",
    "\n",
    "\n",
    "arr = np.array([\n",
    "    [[1, 2, 3], [4, 5, 6], [7, 8, 9]],\n",
    "    [[10, 11, 12], [13, 14, 15], [16, 17, 18]],\n",
    "    [[19, 20, 21], [22, 23, 24], [25, 26, 27]]])\n",
    "    \n",
    "    \n",
    "\n",
    "x_indices = np.array([0, 1, 2])\n",
    "y_indices = np.array([1, 0, 2])\n",
    "z_indices = np.array([2, 1, 0])\n",
    "\n",
    "\n",
    "extract_elements_3d(arr, x_indices, y_indices, z_indices)\n"
   ]
  },
  {
   "cell_type": "code",
   "execution_count": 2,
   "id": "6564cad4",
   "metadata": {},
   "outputs": [
    {
     "name": "stdout",
     "output_type": "stream",
     "text": [
      "[3 4]\n"
     ]
    }
   ],
   "source": [
    "#Q34. Write a NumPy function that returns elements from an array where both two conditions are satisfied \n",
    "#     using boolean indexing.\n",
    "\n",
    "\n",
    "\n",
    "\n",
    "def get_elements(arr, condition1, condition2):\n",
    "  \n",
    "    return arr[condition1 & condition2]\n",
    "\n",
    "\n",
    "arr = np.array([1, 2, 3, 4, 5, 6])\n",
    "condition1 = arr > 2\n",
    "condition2 = arr < 5\n",
    "result = get_elements(arr, condition1, condition2)\n",
    "print(result)\n"
   ]
  },
  {
   "cell_type": "code",
   "execution_count": 3,
   "id": "b02703b9",
   "metadata": {},
   "outputs": [
    {
     "name": "stdout",
     "output_type": "stream",
     "text": [
      "[3 5 7]\n"
     ]
    }
   ],
   "source": [
    "#Q35. Create a NumPy function that extracts elements from a 2D array using row and column indices provided \n",
    "#     in separate arrays.\n",
    "\n",
    "\n",
    "\n",
    "\n",
    "def extract_elements(arr, row_indices, col_indices):\n",
    "    \n",
    "    return arr[row_indices, col_indices]\n",
    "\n",
    "\n",
    "arr = np.array([[1, 2, 3],\n",
    "                [4, 5, 6],\n",
    "                [7, 8, 9]])\n",
    "\n",
    "row_indices = np.array([0, 1, 2])\n",
    "col_indices = np.array([2, 1, 0])\n",
    "\n",
    "result = extract_elements(arr, row_indices, col_indices)\n",
    "print(result) \n"
   ]
  },
  {
   "cell_type": "code",
   "execution_count": 4,
   "id": "64569563",
   "metadata": {},
   "outputs": [
    {
     "name": "stdout",
     "output_type": "stream",
     "text": [
      "[[ 6  7  8]\n",
      " [ 9 10 11]\n",
      " [12 13 14]]\n"
     ]
    }
   ],
   "source": [
    "#Q36.  Given an array arr of shape (3, 3), add a scalar value of 5 to each element using NumPy broadcasting.\n",
    "\n",
    "\n",
    "arr = np.array([[1, 2, 3],\n",
    "                [4, 5, 6],\n",
    "                [7, 8, 9]])\n",
    "\n",
    "result = arr + 5\n",
    "\n",
    "print(result)\n"
   ]
  },
  {
   "cell_type": "code",
   "execution_count": 6,
   "id": "1cb929f3",
   "metadata": {},
   "outputs": [
    {
     "name": "stdout",
     "output_type": "stream",
     "text": [
      "[[ 4  5  6  7]\n",
      " [16 18 20 22]\n",
      " [36 39 42 45]]\n"
     ]
    }
   ],
   "source": [
    "#Q37. Consider two arrays arr1 of shape (1, 3) and arr2 of shape (3, 4). Multiply each row of arr2 by the \n",
    "#     corresponding element in arr1 using NumPy broadcasting.\n",
    "\n",
    "\n",
    "arr1 = np.array([[1, 2, 3]])  \n",
    "arr2 = np.array([[4, 5, 6, 7],\n",
    "                 [8, 9, 10, 11],\n",
    "                 [12, 13, 14, 15]])  \n",
    "\n",
    "\n",
    "result = arr2 * arr1.T\n",
    "\n",
    "print(result)\n"
   ]
  },
  {
   "cell_type": "code",
   "execution_count": 9,
   "id": "91681a8a",
   "metadata": {},
   "outputs": [
    {
     "name": "stdout",
     "output_type": "stream",
     "text": [
      "[[ 6  7  8]\n",
      " [10 11 12]\n",
      " [14 15 16]\n",
      " [18 19 20]]\n"
     ]
    }
   ],
   "source": [
    "#Q38. Given a 1D array arr1 of shape (1, 4) and a 2D array arr2 of shape (4, 3), add arr1 to each row of arr2 using \n",
    "#      NumPy broadcasting.\n",
    "\n",
    "\n",
    "\n",
    "arr1 = np.array([1, 2, 3, 4])  \n",
    "arr2 = np.array([[5, 6, 7],\n",
    "                 [8, 9, 10],\n",
    "                 [11, 12, 13],\n",
    "                 [14, 15, 16]])\n",
    "\n",
    "result = arr2 + arr1[:, np.newaxis]\n",
    "\n",
    "print(result)\n"
   ]
  },
  {
   "cell_type": "code",
   "execution_count": 10,
   "id": "d3ae1198",
   "metadata": {},
   "outputs": [
    {
     "name": "stdout",
     "output_type": "stream",
     "text": [
      "[[5 6 7]\n",
      " [6 7 8]\n",
      " [7 8 9]]\n"
     ]
    }
   ],
   "source": [
    "#Q39. Consider two arrays arr1 of shape (3, 1) and arr2 of shape (1, 3). Add these arrays using NumPy \n",
    "#     broadcasting.\n",
    "\n",
    "\n",
    "arr1 = np.array([[1],\n",
    "                 [2],\n",
    "                 [3]])  \n",
    "\n",
    "arr2 = np.array([[4, 5, 6]])  \n",
    "\n",
    "result = arr1 + arr2\n",
    "\n",
    "print(result)\n"
   ]
  },
  {
   "cell_type": "code",
   "execution_count": 13,
   "id": "3dea5fc3",
   "metadata": {},
   "outputs": [
    {
     "name": "stdout",
     "output_type": "stream",
     "text": [
      "[[[ 7  8]\n",
      "  [14 16]\n",
      "  [21 24]]\n",
      "\n",
      " [[36 40]\n",
      "  [45 50]\n",
      "  [54 60]]]\n"
     ]
    }
   ],
   "source": [
    "#Q40. Given arrays arr1 of shape (2, 3) and arr2 of shape (2, 2), perform multiplication using NumPy \n",
    "#     broadcasting. Handle the shape incompatibility.\n",
    "\n",
    "\n",
    "arr1 = np.array([[1, 2, 3],\n",
    "                 [4, 5, 6]])  \n",
    "\n",
    "arr2 = np.array([[7, 8],\n",
    "                 [9, 10]]) \n",
    "\n",
    "arr2_reshaped = arr2[:, np.newaxis]\n",
    "\n",
    "\n",
    "result = arr1[:, :, np.newaxis] * arr2_reshaped\n",
    "\n",
    "\n",
    "result_reshaped = result.reshape(2, 3, 2)\n",
    "\n",
    "print(result_reshaped)\n"
   ]
  },
  {
   "cell_type": "code",
   "execution_count": 14,
   "id": "beb9d4d3",
   "metadata": {},
   "outputs": [
    {
     "name": "stdout",
     "output_type": "stream",
     "text": [
      "[2.5 3.5 4.5]\n"
     ]
    }
   ],
   "source": [
    "#Q41.Calculate column wise mean for the given array:\n",
    "#    arr = np.array([[1, 2, 3], [4, 5, 6]])\n",
    "\n",
    "\n",
    "arr = np.array([[1, 2, 3], \n",
    "                [4, 5, 6]])\n",
    "\n",
    "\n",
    "column_mean = np.mean(arr, axis=0)\n",
    "\n",
    "print(column_mean)\n"
   ]
  },
  {
   "cell_type": "code",
   "execution_count": 16,
   "id": "061f07ef",
   "metadata": {},
   "outputs": [
    {
     "name": "stdout",
     "output_type": "stream",
     "text": [
      "[3 6]\n"
     ]
    }
   ],
   "source": [
    "#Q42. Find maximum value in each row of the given array:\n",
    "#      arr = np.array([[1, 2, 3], [4, 5, 6]])\n",
    "\n",
    "\n",
    "\n",
    "arr = np.array([[1, 2, 3], \n",
    "                [4, 5, 6]])\n",
    "\n",
    "\n",
    "row_max = np.max(arr, axis=1)\n",
    "\n",
    "print(row_max)\n"
   ]
  },
  {
   "cell_type": "code",
   "execution_count": 18,
   "id": "fee2f22b",
   "metadata": {},
   "outputs": [
    {
     "name": "stdout",
     "output_type": "stream",
     "text": [
      "[1 1 1]\n"
     ]
    }
   ],
   "source": [
    "#Q43. For the given array, find indices of maximum value in each column.\n",
    "#     arr = np.array([[1, 2, 3], [4, 5, 6]])\n",
    "\n",
    "\n",
    "arr = np.array([[1, 2, 3], \n",
    "                [4, 5, 6]])\n",
    "\n",
    "\n",
    "max_indices = np.argmax(arr, axis=0)\n",
    "\n",
    "print(max_indices)\n",
    "\n"
   ]
  },
  {
   "cell_type": "code",
   "execution_count": 22,
   "id": "b0120eae",
   "metadata": {},
   "outputs": [
    {
     "name": "stdout",
     "output_type": "stream",
     "text": [
      "[[ 3  5]\n",
      " [ 9 11]]\n"
     ]
    }
   ],
   "source": [
    "#Q44. For the given array, apply custom function to calculate moving sum along rows.\n",
    "#          arr = np.array([[1, 2, 3], [4, 5, 6]])\n",
    "\n",
    "\n",
    "\n",
    "\n",
    "def moving_sum(arr, window_size):\n",
    "    \n",
    "    if window_size > arr.shape[1]:\n",
    "        raise ValueError(\"Window size must be less than or equal to the number of columns in the array\")\n",
    "    \n",
    "    result = np.zeros((arr.shape[0], arr.shape[1] - window_size + 1), dtype=arr.dtype)\n",
    "    \n",
    "    for i in range(arr.shape[0]):\n",
    "        for j in range(arr.shape[1] - window_size + 1):\n",
    "            result[i, j] = np.sum(arr[i, j:j + window_size])\n",
    "    \n",
    "    return result\n",
    "\n",
    "\n",
    "arr = np.array([[1, 2, 3], \n",
    "                [4, 5, 6]])\n",
    "\n",
    "window_size = 2\n",
    "moving_sum_result = moving_sum(arr, window_size)\n",
    "\n",
    "print(moving_sum_result)\n"
   ]
  },
  {
   "cell_type": "code",
   "execution_count": 25,
   "id": "de200661",
   "metadata": {},
   "outputs": [
    {
     "data": {
      "text/plain": [
       "array([False, False, False])"
      ]
     },
     "execution_count": 25,
     "metadata": {},
     "output_type": "execute_result"
    }
   ],
   "source": [
    "#Q45.In the given array, check if all elements in each column are even.\n",
    "\n",
    "#         arr = np.array([[2, 4, 6], [3, 5, 7]])\n",
    "\n",
    "\n",
    "arr = np.array([[2, 4, 6],\n",
    "                [3, 5, 7]])\n",
    "\n",
    "\n",
    "all_even = np.all(arr % 2 == 0, axis=0)\n",
    "all_even"
   ]
  },
  {
   "cell_type": "code",
   "execution_count": 27,
   "id": "5efde121",
   "metadata": {},
   "outputs": [
    {
     "name": "stdout",
     "output_type": "stream",
     "text": [
      "[[1 2 3]\n",
      " [4 5 6]]\n"
     ]
    }
   ],
   "source": [
    "#Q46.Given a NumPy array arr, reshape it into a matrix of dimensions `m` rows and `n` columns. Return the \n",
    "#    reshaped matrix.\n",
    "#     original_array = np.array([1, 2, 3, 4, 5, 6])\n",
    "\n",
    "\n",
    "\n",
    "original_array = np.array([1, 2, 3, 4, 5, 6])\n",
    "\n",
    "\n",
    "m = 2  \n",
    "n = 3  \n",
    "\n",
    "\n",
    "reshaped_matrix = original_array.reshape(m, n)\n",
    "\n",
    "\n",
    "print(reshaped_matrix)\n"
   ]
  },
  {
   "cell_type": "code",
   "execution_count": 29,
   "id": "1493dd9b",
   "metadata": {},
   "outputs": [
    {
     "name": "stdout",
     "output_type": "stream",
     "text": [
      "[1 2 3 4 5 6]\n"
     ]
    }
   ],
   "source": [
    "#Q47.Create a function that takes a matrix as input and returns the flattened array.\n",
    "#    input_matrix = np.array([[1, 2, 3], [4, 5, 6]])\n",
    "\n",
    "\n",
    "\n",
    "\n",
    "def flatten_matrix(matrix):\n",
    "    \n",
    "    return matrix.flatten()\n",
    "\n",
    "\n",
    "input_matrix = np.array([[1, 2, 3],\n",
    "                         [4, 5, 6]])\n",
    "\n",
    "flattened_array = flatten_matrix(input_matrix)\n",
    "\n",
    "\n",
    "print(flattened_array)\n"
   ]
  },
  {
   "cell_type": "code",
   "execution_count": 4,
   "id": "a6b30f32",
   "metadata": {},
   "outputs": [
    {
     "name": "stdout",
     "output_type": "stream",
     "text": [
      "[[1 2]\n",
      " [3 4]\n",
      " [5 6]\n",
      " [7 8]]\n",
      "[[1 2 5 6]\n",
      " [3 4 7 8]]\n"
     ]
    }
   ],
   "source": [
    "#Q48.Write a function that concatenates two given arrays along a specified axis.\n",
    "#      array1 = np.array([[1, 2], [3, 4]])\n",
    "#      array2 = np.array([[5, 6], [7, 8]])\n",
    "\n",
    "\n",
    "\n",
    "\n",
    "def concatenate_arrays(array1, array2, axis):\n",
    "    return np.concatenate((array1, array2), axis=axis)\n",
    "\n",
    "array1 = np.array([[1, 2], [3, 4]])\n",
    "array2 = np.array([[5, 6], [7, 8]])\n",
    "\n",
    "\n",
    "result = concatenate_arrays(array1, array2, axis=0)\n",
    "print(result)\n",
    "\n",
    "\n",
    "\n",
    "result = concatenate_arrays(array1, array2, axis=1)\n",
    "print(result)\n"
   ]
  },
  {
   "cell_type": "code",
   "execution_count": 5,
   "id": "ffea1544",
   "metadata": {},
   "outputs": [
    {
     "name": "stdout",
     "output_type": "stream",
     "text": [
      "Sub-array 0:\n",
      "[[1 2 3]]\n",
      "\n",
      "Sub-array 1:\n",
      "[[4 5 6]]\n",
      "\n",
      "Sub-array 2:\n",
      "[[7 8 9]]\n",
      "\n",
      "Sub-array 0:\n",
      "[[1]\n",
      " [4]\n",
      " [7]]\n",
      "\n",
      "Sub-array 1:\n",
      "[[2]\n",
      " [5]\n",
      " [8]]\n",
      "\n",
      "Sub-array 2:\n",
      "[[3]\n",
      " [6]\n",
      " [9]]\n",
      "\n"
     ]
    }
   ],
   "source": [
    "#Q49. Create a function that splits an array into multiple sub-arrays along a specified axis\n",
    "#     original_array = np.array([[1, 2, 3], [4, 5, 6], [7, 8, 9]])\n",
    "\n",
    "\n",
    "\n",
    "\n",
    "def split_array(array, indices_or_sections, axis=0):\n",
    "    return np.split(array, indices_or_sections, axis=axis)\n",
    "\n",
    "\n",
    "original_array = np.array([[1, 2, 3], [4, 5, 6], [7, 8, 9]])\n",
    "\n",
    "\n",
    "sub_arrays_axis0 = split_array(original_array, 3, axis=0)\n",
    "for i, sub_array in enumerate(sub_arrays_axis0):\n",
    "    print(f\"Sub-array {i}:\\n{sub_array}\\n\")\n",
    "\n",
    "\n",
    "sub_arrays_axis1 = split_array(original_array, 3, axis=1)\n",
    "for i, sub_array in enumerate(sub_arrays_axis1):\n",
    "    print(f\"Sub-array {i}:\\n{sub_array}\\n\")\n"
   ]
  },
  {
   "cell_type": "code",
   "execution_count": 8,
   "id": "cd347d84",
   "metadata": {},
   "outputs": [
    {
     "name": "stdout",
     "output_type": "stream",
     "text": [
      "[ 1 10  3 11  5]\n"
     ]
    }
   ],
   "source": [
    "#Q50. Write a function that inserts and then deletes elements from a given array at specified indices.\n",
    "#      original_array = np.array([1, 2, 3, 4, 5])\n",
    "#      indices_to_insert = [2, 4]\n",
    "#      values_to_insert = [10, 11]\n",
    "#      indices_to_delete = [1, 3]\n",
    "\n",
    "\n",
    "\n",
    "\n",
    "\n",
    "def insert_and_delete_elements(array, indices_to_insert, values_to_insert, indices_to_delete):\n",
    "    \n",
    "    modified_array = np.insert(array, indices_to_insert, values_to_insert)\n",
    "    \n",
    "    \n",
    "    adjusted_indices_to_delete = np.array(indices_to_delete) + np.arange(len(indices_to_delete))\n",
    "    \n",
    "    \n",
    "    modified_array = np.delete(modified_array, adjusted_indices_to_delete)\n",
    "    \n",
    "    return modified_array\n",
    "\n",
    "\n",
    "original_array = np.array([1, 2, 3, 4, 5])\n",
    "indices_to_insert = [2, 4]\n",
    "values_to_insert = [10, 11]\n",
    "indices_to_delete = [1, 3]\n",
    "\n",
    "result_array = insert_and_delete_elements(original_array, indices_to_insert, values_to_insert, indices_to_delete)\n",
    "print(result_array)\n"
   ]
  },
  {
   "cell_type": "code",
   "execution_count": 10,
   "id": "02376725",
   "metadata": {},
   "outputs": [
    {
     "name": "stdout",
     "output_type": "stream",
     "text": [
      "arr1: [3 5 5 4 7 7 8 0 0 6]\n",
      "arr2: [ 1  2  3  4  5  6  7  8  9 10]\n",
      "Element-wise addition result: [ 4  7  8  8 12 13 15  8  9 16]\n"
     ]
    }
   ],
   "source": [
    "#Q51. Create a NumPy array `arr1` with random integers and another array `arr2` with integers from 1 to 10. \n",
    "#      Perform element-wise addition between `arr1` and `arr2`.\n",
    "\n",
    "\n",
    "arr1 = np.random.randint(0, 10, size=10)\n",
    "\n",
    "\n",
    "arr2 = np.arange(1, 11)\n",
    "\n",
    "\n",
    "result = arr1 + arr2\n",
    "\n",
    "\n",
    "print(\"arr1:\", arr1)\n",
    "print(\"arr2:\", arr2)\n",
    "print(\"Element-wise addition result:\", result)\n"
   ]
  },
  {
   "cell_type": "code",
   "execution_count": 12,
   "id": "9741ccf0",
   "metadata": {},
   "outputs": [
    {
     "name": "stdout",
     "output_type": "stream",
     "text": [
      "arr1: [10  9  8  7  6  5  4  3  2  1]\n",
      "arr2: [ 1  2  3  4  5  6  7  8  9 10]\n",
      "Element-wise subtraction result: [ 9  7  5  3  1 -1 -3 -5 -7 -9]\n"
     ]
    }
   ],
   "source": [
    "#Q52. Generate a NumPy array `arr1` with sequential integers from 10 to 1 and another array `arr2` with integers \n",
    "#     from 1 to 10. Subtract `arr2` from `arr1` element-wise.\n",
    "\n",
    "\n",
    "arr1 = np.arange(10, 0, -1)\n",
    "\n",
    "\n",
    "arr2 = np.arange(1, 11)\n",
    "\n",
    "\n",
    "result = arr1 - arr2\n",
    "\n",
    "\n",
    "print(\"arr1:\", arr1)\n",
    "print(\"arr2:\", arr2)\n",
    "print(\"Element-wise subtraction result:\", result)\n"
   ]
  },
  {
   "cell_type": "code",
   "execution_count": 13,
   "id": "d2b9a736",
   "metadata": {},
   "outputs": [
    {
     "name": "stdout",
     "output_type": "stream",
     "text": [
      "arr1: [0 9 8 2 6]\n",
      "arr2: [1 2 3 4 5]\n",
      "Element-wise multiplication result: [ 0 18 24  8 30]\n"
     ]
    }
   ],
   "source": [
    "#Q53. Create a NumPy array `arr1` with random integers and another array `arr2` with integers from 1 to 5. \n",
    "#      Perform element-wise multiplication between `arr1` and `arr2`.\n",
    "\n",
    "\n",
    "\n",
    "arr1 = np.random.randint(0, 10, size=5)\n",
    "\n",
    "\n",
    "arr2 = np.arange(1, 6)\n",
    "\n",
    "\n",
    "result = arr1 * arr2\n",
    "\n",
    "\n",
    "print(\"arr1:\", arr1)\n",
    "print(\"arr2:\", arr2)\n",
    "print(\"Element-wise multiplication result:\", result)\n"
   ]
  },
  {
   "cell_type": "code",
   "execution_count": 15,
   "id": "866dab6f",
   "metadata": {},
   "outputs": [
    {
     "name": "stdout",
     "output_type": "stream",
     "text": [
      "arr1: [ 2  4  6  8 10]\n",
      "arr2: [1 2 3 4 5]\n",
      "Element-wise division result: [2. 2. 2. 2. 2.]\n"
     ]
    }
   ],
   "source": [
    "#Q54. Generate a NumPy array `arr1` with even integers from 2 to 10 and another array `arr2` with integers from 1 \n",
    "#     to 5. Perform element-wise division of `arr1` by `arr2`.\n",
    "\n",
    "\n",
    "arr1 = np.arange(2, 11, 2)\n",
    "\n",
    "\n",
    "arr2 = np.arange(1, 6)\n",
    "\n",
    "\n",
    "result = arr1 / arr2\n",
    "\n",
    "\n",
    "print(\"arr1:\", arr1)\n",
    "print(\"arr2:\", arr2)\n",
    "print(\"Element-wise division result:\", result)\n"
   ]
  },
  {
   "cell_type": "code",
   "execution_count": 2,
   "id": "ecd73dce",
   "metadata": {},
   "outputs": [
    {
     "name": "stdout",
     "output_type": "stream",
     "text": [
      "arr1: [1 2 3 4 5]\n",
      "arr2: [5 4 3 2 1]\n",
      "Element-wise exponentiation result: [ 1 16 27 16  5]\n"
     ]
    }
   ],
   "source": [
    "#Q55. Create a NumPy array `arr1` with integers from 1 to 5 and another array `arr2` with the same numbers \n",
    "#      reversed. Calculate the exponentiation of `arr1` raised to the power of `arr2` element-wise.\n",
    "\n",
    "\n",
    "\n",
    "\n",
    "\n",
    "\n",
    "\n",
    "\n",
    "arr1 = np.arange(1, 6)\n",
    "arr2 = arr1[::-1]\n",
    "\n",
    "result = arr1 ** arr2\n",
    "\n",
    "\n",
    "print(\"arr1:\", arr1)\n",
    "print(\"arr2:\", arr2)\n",
    "print(\"Element-wise exponentiation result:\", result)\n"
   ]
  },
  {
   "cell_type": "code",
   "execution_count": 6,
   "id": "b92eff4f",
   "metadata": {},
   "outputs": [
    {
     "name": "stdout",
     "output_type": "stream",
     "text": [
      "3\n"
     ]
    }
   ],
   "source": [
    "#Q56.Write a function that counts the occurrences of a specific substring within a NumPy array of strings.\n",
    "#    arr = np.array(['hello', 'world', 'hello', 'numpy', 'hello'])\n",
    "\n",
    "\n",
    "\n",
    "\n",
    "def count_substring_occurrences(arr, substring):    \n",
    "    count_func = np.vectorize(lambda x: x.count(substring))    \n",
    "    return count_func(arr).sum()\n",
    "\n",
    "\n",
    "arr = np.array(['hello', 'world', 'hello', 'numpy', 'hello'])\n",
    "substring = 'hello'\n",
    "count = count_substring_occurrences(arr, substring)\n",
    "print(count)  \n"
   ]
  },
  {
   "cell_type": "code",
   "execution_count": 8,
   "id": "3080104f",
   "metadata": {},
   "outputs": [
    {
     "name": "stdout",
     "output_type": "stream",
     "text": [
      "['H' 'W' 'OAI' 'GPT']\n"
     ]
    }
   ],
   "source": [
    "#Q57. Write a function that extracts uppercase characters from a NumPy array of strings.\n",
    "\n",
    "#       arr = np.array(['Hello', 'World', 'OpenAI', 'GPT'])\n",
    "\n",
    "\n",
    "\n",
    "\n",
    "\n",
    "def extract_uppercase(arr):\n",
    "    \n",
    "    extract_func = np.vectorize(lambda x: ''.join([char for char in x if char.isupper()]))\n",
    "    \n",
    "    return extract_func(arr)\n",
    "\n",
    "\n",
    "arr = np.array(['Hello', 'World', 'OpenAI', 'GPT'])\n",
    "uppercase_chars = extract_uppercase(arr)\n",
    "print(uppercase_chars)  \n"
   ]
  },
  {
   "cell_type": "code",
   "execution_count": 3,
   "id": "585f9fce",
   "metadata": {},
   "outputs": [
    {
     "name": "stdout",
     "output_type": "stream",
     "text": [
      "['fruit' 'banana' 'grape' 'pinefruit']\n"
     ]
    }
   ],
   "source": [
    "#Q58. Write a function that replaces occurrences of a substring in a NumPy array of strings with a new string.\n",
    "#     arr = np.array(['apple', 'banana', 'grape', 'pineapple'])\n",
    "\n",
    "\n",
    "\n",
    "\n",
    "def replace_substring_in_array(arr, old_substring, new_substring):\n",
    "    \n",
    "    return np.char.replace(arr, old_substring, new_substring)\n",
    "\n",
    "\n",
    "arr = np.array(['apple', 'banana', 'grape', 'pineapple'])\n",
    "new_arr = replace_substring_in_array(arr, 'apple', 'fruit')\n",
    "print(new_arr)\n"
   ]
  },
  {
   "cell_type": "code",
   "execution_count": 6,
   "id": "13a79a21",
   "metadata": {},
   "outputs": [
    {
     "name": "stdout",
     "output_type": "stream",
     "text": [
      "['HelloOpen' 'WorldAI']\n"
     ]
    }
   ],
   "source": [
    "#Q59. Write a function that concatenates strings in a NumPy array element-wise.\n",
    "#     import numpy as np\n",
    "#      arr1 = np.array(['Hello', 'World'])\n",
    "#      arr2 = np.array(['Open', 'AI'])\n",
    "\n",
    "\n",
    "\n",
    "\n",
    "\n",
    "def concatenate_arrays_elementwise(arr1, arr2):\n",
    "\n",
    "    return np.char.add(arr1, arr2)\n",
    "\n",
    "\n",
    "arr1 = np.array(['Hello', 'World'])\n",
    "arr2 = np.array(['Open', 'AI'])\n",
    "result = concatenate_arrays_elementwise(arr1, arr2)\n",
    "print(result)\n"
   ]
  },
  {
   "cell_type": "code",
   "execution_count": 3,
   "id": "c37d9ba3",
   "metadata": {},
   "outputs": [
    {
     "name": "stdout",
     "output_type": "stream",
     "text": [
      "9\n"
     ]
    }
   ],
   "source": [
    "#Q60. Write a function that finds the length of the longest string in a NumPy array.\n",
    "\n",
    "#         arr = np.array(['apple', 'banana', 'grape', 'pineapple'])\n",
    "\n",
    "\n",
    "\n",
    "\n",
    "def longest_string_length(arr):\n",
    "    \n",
    "    lengths = [len(item) for item in arr]\n",
    "    \n",
    "    \n",
    "    return max(lengths)\n",
    "\n",
    "\n",
    "arr = np.array(['apple', 'banana', 'grape', 'pineapple'])\n",
    "print(longest_string_length(arr))  \n"
   ]
  },
  {
   "cell_type": "code",
   "execution_count": 5,
   "id": "0273279a",
   "metadata": {},
   "outputs": [
    {
     "name": "stdout",
     "output_type": "stream",
     "text": [
      "Mean: 485.56\n",
      "Median: 464.0\n",
      "Variance: 96527.18639999999\n",
      "Standard Deviation: 310.68824631775175\n"
     ]
    }
   ],
   "source": [
    "#Q61. Create a dataset of 100 random integers between 1 and 1000. Compute the mean, median, variance, and \n",
    "#    standard deviation of the dataset using NumPy's functions.\n",
    "\n",
    "\n",
    "\n",
    "data = np.random.randint(1, 1001, size=100)\n",
    "\n",
    "\n",
    "mean = np.mean(data)\n",
    "median = np.median(data)\n",
    "variance = np.var(data)\n",
    "std_dev = np.std(data)\n",
    "\n",
    "print(f\"Mean: {mean}\")\n",
    "print(f\"Median: {median}\")\n",
    "print(f\"Variance: {variance}\")\n",
    "print(f\"Standard Deviation: {std_dev}\")\n"
   ]
  },
  {
   "cell_type": "code",
   "execution_count": 6,
   "id": "9aa15b54",
   "metadata": {},
   "outputs": [
    {
     "name": "stdout",
     "output_type": "stream",
     "text": [
      "25th Percentile: 21.512448820065476\n",
      "75th Percentile: 72.40326578276148\n"
     ]
    }
   ],
   "source": [
    "#Q62. Generate an array of 50 random numbers between 1 and 100. Find the 25th and 75th percentiles of the \n",
    "#      dataset.\n",
    "\n",
    "\n",
    "data = np.random.uniform(1, 100, 50)\n",
    "\n",
    "\n",
    "percentile_25 = np.percentile(data, 25)\n",
    "percentile_75 = np.percentile(data, 75)\n",
    "\n",
    "print(f\"25th Percentile: {percentile_25}\")\n",
    "print(f\"75th Percentile: {percentile_75}\")\n"
   ]
  },
  {
   "cell_type": "code",
   "execution_count": 8,
   "id": "77505231",
   "metadata": {},
   "outputs": [
    {
     "name": "stdout",
     "output_type": "stream",
     "text": [
      "Correlation coefficient matrix:\n",
      "[[ 1.         -0.05433043]\n",
      " [-0.05433043  1.        ]]\n"
     ]
    }
   ],
   "source": [
    "#Q63. Create two arrays representing two sets of variables. Compute the correlation coefficient between these \n",
    "#     arrays using NumPy's `corrcoef` function.\n",
    "\n",
    "\n",
    "\n",
    "x = np.random.rand(100)\n",
    "y = np.random.rand(100)\n",
    "\n",
    "\n",
    "correlation_matrix = np.corrcoef(x, y)\n",
    "\n",
    "print(\"Correlation coefficient matrix:\")\n",
    "print(correlation_matrix)\n"
   ]
  },
  {
   "cell_type": "code",
   "execution_count": 10,
   "id": "86d9081a",
   "metadata": {},
   "outputs": [
    {
     "name": "stdout",
     "output_type": "stream",
     "text": [
      "Matrix 1:\n",
      "[[4 6]\n",
      " [6 6]\n",
      " [9 4]]\n",
      "\n",
      "Matrix 2:\n",
      "[[1 9 9 9]\n",
      " [5 2 3 4]]\n",
      "\n",
      "Matrix Multiplication Result:\n",
      "[[34 48 54 60]\n",
      " [36 66 72 78]\n",
      " [29 89 93 97]]\n"
     ]
    }
   ],
   "source": [
    "#Q64. Create two matrices and perform matrix multiplication using NumPy's `dot` function.\n",
    "\n",
    "\n",
    "matrix1 = np.random.randint(1, 10, (3, 2))\n",
    "matrix2 = np.random.randint(1, 10, (2, 4))\n",
    "\n",
    "\n",
    "result = np.dot(matrix1, matrix2)\n",
    "\n",
    "print(\"Matrix 1:\")\n",
    "print(matrix1)\n",
    "print(\"\\nMatrix 2:\")\n",
    "print(matrix2)\n",
    "print(\"\\nMatrix Multiplication Result:\")\n",
    "print(result)\n"
   ]
  },
  {
   "cell_type": "code",
   "execution_count": 12,
   "id": "29cfb0b0",
   "metadata": {},
   "outputs": [
    {
     "name": "stdout",
     "output_type": "stream",
     "text": [
      "10th Percentile: 163.9\n",
      "50th Percentile (Median): 529.5\n",
      "90th Percentile: 890.8\n",
      "First Quartile (25th Percentile): 318.0\n",
      "Third Quartile (75th Percentile): 797.25\n"
     ]
    }
   ],
   "source": [
    "#Q65. Create an array of 50 integers between 10 and 1000. Calculate the 10th, 50th (median), and 90th \n",
    "#     percentiles along with the first and third quartiles.\n",
    "\n",
    "\n",
    "data = np.random.randint(10, 1001, 50)\n",
    "\n",
    "\n",
    "percentile_10 = np.percentile(data, 10)\n",
    "percentile_50 = np.percentile(data, 50)\n",
    "percentile_90 = np.percentile(data, 90)\n",
    "\n",
    "\n",
    "quartile_1 = np.percentile(data, 25)\n",
    "quartile_3 = np.percentile(data, 75)\n",
    "\n",
    "print(f\"10th Percentile: {percentile_10}\")\n",
    "print(f\"50th Percentile (Median): {percentile_50}\")\n",
    "print(f\"90th Percentile: {percentile_90}\")\n",
    "print(f\"First Quartile (25th Percentile): {quartile_1}\")\n",
    "print(f\"Third Quartile (75th Percentile): {quartile_3}\")\n"
   ]
  },
  {
   "cell_type": "code",
   "execution_count": 14,
   "id": "6b0e8167",
   "metadata": {},
   "outputs": [
    {
     "name": "stdout",
     "output_type": "stream",
     "text": [
      "Index of element 11: [4]\n"
     ]
    }
   ],
   "source": [
    "#Q66. Create a NumPy array of integers and find the index of a specific element.\n",
    "\n",
    "\n",
    "\n",
    "arr = np.array([1, 3, 7, 9, 11, 15, 19])\n",
    "\n",
    "\n",
    "element_to_find = 11\n",
    "index = np.where(arr == element_to_find)[0]\n",
    "\n",
    "print(f\"Index of element {element_to_find}: {index}\")\n"
   ]
  },
  {
   "cell_type": "code",
   "execution_count": 16,
   "id": "69035d6f",
   "metadata": {},
   "outputs": [
    {
     "name": "stdout",
     "output_type": "stream",
     "text": [
      "Original array:\n",
      "[85 78 26 33 13 48 94 83 61 95]\n",
      "Sorted array:\n",
      "[13 26 33 48 61 78 83 85 94 95]\n"
     ]
    }
   ],
   "source": [
    "#Q67. Generate a random NumPy array and sort it in ascending order.\n",
    "\n",
    "\n",
    "\n",
    "random_array = np.random.randint(1, 101, 10)\n",
    "\n",
    "\n",
    "sorted_array = np.sort(random_array)\n",
    "\n",
    "print(\"Original array:\")\n",
    "print(random_array)\n",
    "print(\"Sorted array:\")\n",
    "print(sorted_array)\n"
   ]
  },
  {
   "cell_type": "code",
   "execution_count": 18,
   "id": "cd1b0f2a",
   "metadata": {},
   "outputs": [
    {
     "name": "stdout",
     "output_type": "stream",
     "text": [
      "[25 42 30]\n"
     ]
    }
   ],
   "source": [
    "#Q68. Filter elements >20  in the given NumPy array.\n",
    "#     arr = np.array([12, 25, 6, 42, 8, 30])\n",
    "\n",
    "\n",
    "arr = np.array([12, 25, 6, 42, 8, 30])\n",
    "\n",
    "\n",
    "filtered_arr = arr[arr > 20]\n",
    "\n",
    "print(filtered_arr)\n"
   ]
  },
  {
   "cell_type": "code",
   "execution_count": 20,
   "id": "6a127b0a",
   "metadata": {},
   "outputs": [
    {
     "name": "stdout",
     "output_type": "stream",
     "text": [
      "[12 15]\n"
     ]
    }
   ],
   "source": [
    "#Q69. Filter elements which are divisible by 3 from a given NumPy array.\n",
    "#     arr = np.array([1, 5, 8, 12, 15])\n",
    "\n",
    "\n",
    "arr = np.array([1, 5, 8, 12, 15])\n",
    "\n",
    "\n",
    "filtered_arr = arr[arr % 3 == 0]\n",
    "\n",
    "print(filtered_arr)\n"
   ]
  },
  {
   "cell_type": "code",
   "execution_count": 22,
   "id": "0abdd5e5",
   "metadata": {},
   "outputs": [
    {
     "name": "stdout",
     "output_type": "stream",
     "text": [
      "[20 30 40]\n"
     ]
    }
   ],
   "source": [
    "#Q70. Filter elements which are ≥ 20 and ≤ 40 from a given NumPy array.\n",
    "#    arr = np.array([10, 20, 30, 40, 50])\n",
    "\n",
    "\n",
    "\n",
    "arr = np.array([10, 20, 30, 40, 50])\n",
    "\n",
    "\n",
    "filtered_arr = arr[(arr >= 20) & (arr <= 40)]\n",
    "\n",
    "print(filtered_arr)\n"
   ]
  },
  {
   "cell_type": "code",
   "execution_count": 23,
   "id": "37b3ef2c",
   "metadata": {},
   "outputs": [
    {
     "name": "stdout",
     "output_type": "stream",
     "text": [
      "Byte order of the array: =\n"
     ]
    }
   ],
   "source": [
    "#Q71. For the given NumPy array, check its byte order using the `dtype` attribute byteorder.\n",
    "#     arr = np.array([1, 2, 3])\n",
    "\n",
    "\n",
    "\n",
    "\n",
    "arr = np.array([1, 2, 3])\n",
    "\n",
    "\n",
    "byte_order = arr.dtype.byteorder\n",
    "\n",
    "print(f\"Byte order of the array: {byte_order}\")\n"
   ]
  },
  {
   "cell_type": "code",
   "execution_count": 26,
   "id": "2eb5ef01",
   "metadata": {},
   "outputs": [
    {
     "name": "stdout",
     "output_type": "stream",
     "text": [
      "[16777216 33554432 50331648]\n"
     ]
    }
   ],
   "source": [
    "#Q72. For the given NumPy array, perform byte swapping in place using `byteswap()`.\n",
    "#     arr = np.array([1, 2, 3], dtype=np.int32)\n",
    "\n",
    "\n",
    "\n",
    "\n",
    "arr = np.array([1, 2, 3], dtype=np.int32)\n",
    "\n",
    "\n",
    "arr.byteswap(inplace=True)\n",
    "\n",
    "print(arr)\n"
   ]
  },
  {
   "cell_type": "code",
   "execution_count": 28,
   "id": "1f4bbf8e",
   "metadata": {},
   "outputs": [
    {
     "name": "stdout",
     "output_type": "stream",
     "text": [
      "Original array: [1 2 3]\n",
      "Byte-swapped array: [16777216 33554432 50331648]\n"
     ]
    }
   ],
   "source": [
    "#Q73. For the given NumPy array, swap its byte order without modifying the original array using \n",
    "#      `newbyteorder()`.\n",
    "#     arr = np.array([1, 2, 3], dtype=np.int32)\n",
    "\n",
    "\n",
    "\n",
    "arr = np.array([1, 2, 3], dtype=np.int32)\n",
    "\n",
    "\n",
    "swapped_arr = arr.newbyteorder()\n",
    "\n",
    "print(\"Original array:\", arr)\n",
    "print(\"Byte-swapped array:\", swapped_arr)\n"
   ]
  },
  {
   "cell_type": "code",
   "execution_count": 31,
   "id": "4e448e1b",
   "metadata": {},
   "outputs": [
    {
     "name": "stdout",
     "output_type": "stream",
     "text": [
      "The array is already in native byte order.\n",
      "Original array: [1 2 3]\n",
      "Conditionally byte-swapped array: [1 2 3]\n"
     ]
    }
   ],
   "source": [
    "#Q74. For the given NumPy array and swap its byte order conditionally based on system endianness using \n",
    "#     `newbyteorder()`.\n",
    "#     arr = np.array([1, 2, 3], dtype=np.int32)\n",
    "\n",
    "\n",
    "\n",
    "arr = np.array([1, 2, 3], dtype=np.int32)\n",
    "\n",
    "\n",
    "native_endianness = '='  \n",
    "current_byteorder = arr.dtype.byteorder\n",
    "\n",
    "\n",
    "if current_byteorder == native_endianness:\n",
    "    print(\"The array is already in native byte order.\")\n",
    "    swapped_arr = arr\n",
    "else:\n",
    "    print(\"Swapping the byte order of the array to match native endianness.\")\n",
    "    swapped_arr = arr.newbyteorder()\n",
    "\n",
    "print(\"Original array:\", arr)\n",
    "print(\"Conditionally byte-swapped array:\", swapped_arr)\n"
   ]
  },
  {
   "cell_type": "code",
   "execution_count": 33,
   "id": "679026e1",
   "metadata": {},
   "outputs": [
    {
     "name": "stdout",
     "output_type": "stream",
     "text": [
      "The array is in native byte order; no byte swapping is necessary.\n"
     ]
    }
   ],
   "source": [
    "#Q75. For the given NumPy array, check if byte swapping is necessary for the current system using `dtype` \n",
    "#      attribute `byteorder`.\n",
    "#      arr = np.array([1, 2, 3], dtype=np.int32)\n",
    "\n",
    "\n",
    "\n",
    "arr = np.array([1, 2, 3], dtype=np.int32)\n",
    "\n",
    "\n",
    "byte_order = arr.dtype.byteorder\n",
    "\n",
    "\n",
    "if byte_order == '=':\n",
    "    print(\"The array is in native byte order; no byte swapping is necessary.\")\n",
    "elif byte_order == '<':\n",
    "    if np.little_endian:\n",
    "        print(\"The array is little-endian, and the system is also little-endian; no byte swapping is necessary.\")\n",
    "    else:\n",
    "        print(\"The array is little-endian, but the system is big-endian; byte swapping is necessary.\")\n",
    "elif byte_order == '>':\n",
    "    if np.little_endian:\n",
    "        print(\"The array is big-endian, but the system is little-endian; byte swapping is necessary.\")\n",
    "    else:\n",
    "        print(\"The array is big-endian, and the system is also big-endian; no byte swapping is necessary.\")\n"
   ]
  },
  {
   "cell_type": "code",
   "execution_count": 34,
   "id": "a4fe63e0",
   "metadata": {},
   "outputs": [
    {
     "name": "stdout",
     "output_type": "stream",
     "text": [
      "Original array: [ 1  2  3  4  5  6  7  8  9 10]\n",
      "Modified copy: [100   2   3   4   5   6   7   8   9  10]\n"
     ]
    }
   ],
   "source": [
    "#Q76. Create a NumPy array `arr1` with values from 1 to 10. Create a copy of `arr1` named `copy_arr` and modify \n",
    "#     an element in `copy_arr`. Check if modifying `copy_arr` affects `arr1`.\n",
    "\n",
    "\n",
    "\n",
    "arr1 = np.arange(1, 11)\n",
    "\n",
    "\n",
    "copy_arr = arr1.copy()\n",
    "\n",
    "\n",
    "copy_arr[0] = 100\n",
    "\n",
    "print(\"Original array:\", arr1)\n",
    "print(\"Modified copy:\", copy_arr)\n"
   ]
  },
  {
   "cell_type": "code",
   "execution_count": 36,
   "id": "85126976",
   "metadata": {},
   "outputs": [
    {
     "name": "stdout",
     "output_type": "stream",
     "text": [
      "Original matrix:\n",
      "[[  7   3   3]\n",
      " [  4 100   1]\n",
      " [  9   2   2]]\n",
      "Modified slice:\n",
      "[[100   1]\n",
      " [  2   2]]\n"
     ]
    }
   ],
   "source": [
    "#Q77. Create a 2D NumPy array `matrix` of shape (3, 3) with random integers. Extract a slice `view_slice` from \n",
    "#      the matrix. Modify an element in `view_slice` and observe if it changes the original `matrix`.\n",
    "\n",
    "\n",
    "\n",
    "\n",
    "matrix = np.random.randint(1, 10, size=(3, 3))\n",
    "\n",
    "\n",
    "view_slice = matrix[1:, 1:]\n",
    "\n",
    "\n",
    "view_slice[0, 0] = 100\n",
    "\n",
    "print(\"Original matrix:\")\n",
    "print(matrix)\n",
    "print(\"Modified slice:\")\n",
    "print(view_slice)\n"
   ]
  },
  {
   "cell_type": "code",
   "execution_count": 39,
   "id": "9ba2328d",
   "metadata": {},
   "outputs": [
    {
     "name": "stdout",
     "output_type": "stream",
     "text": [
      "Original array:\n",
      "[[ 1  2  3]\n",
      " [ 9 10  6]\n",
      " [12 13  9]\n",
      " [15 16 12]]\n",
      "Modified slice:\n",
      "[[ 9 10]\n",
      " [12 13]\n",
      " [15 16]]\n"
     ]
    }
   ],
   "source": [
    "#Q78. Create a NumPy array `array_a` of shape (4, 3) with sequential integers from 1 to 12. Extract a slice \n",
    "#      `view_b` from `array_a` and broadcast the addition of 5 to view_b. Check if it alters the original `array_a`.\n",
    "\n",
    "\n",
    "\n",
    "\n",
    "array_a = np.arange(1, 13).reshape((4, 3))\n",
    "\n",
    "\n",
    "view_b = array_a[1:, :2]\n",
    "\n",
    "\n",
    "view_b += 5\n",
    "\n",
    "print(\"Original array:\")\n",
    "print(array_a)\n",
    "print(\"Modified slice:\")\n",
    "print(view_b)\n"
   ]
  },
  {
   "cell_type": "code",
   "execution_count": 41,
   "id": "130b2b50",
   "metadata": {},
   "outputs": [
    {
     "name": "stdout",
     "output_type": "stream",
     "text": [
      "Original array:\n",
      "[[100   2   3   4]\n",
      " [  5   6   7   8]]\n",
      "Modified reshaped view:\n",
      "[[100   2]\n",
      " [  3   4]\n",
      " [  5   6]\n",
      " [  7   8]]\n"
     ]
    }
   ],
   "source": [
    "#Q79. Create a NumPy array `orig_array` of shape (2, 4) with values from 1 to 8. Create a reshaped view \n",
    "#     `reshaped_view` of shape (4, 2) from orig_array. Modify an element in `reshaped_view` and check if it \n",
    "#     reflects changes in the original `orig_array`.\n",
    "\n",
    "\n",
    "orig_array = np.arange(1, 9).reshape((2, 4))\n",
    "\n",
    "\n",
    "reshaped_view = orig_array.reshape((4, 2))\n",
    "\n",
    "\n",
    "reshaped_view[0, 0] = 100\n",
    "\n",
    "print(\"Original array:\")\n",
    "print(orig_array)\n",
    "print(\"Modified reshaped view:\")\n",
    "print(reshaped_view)\n"
   ]
  },
  {
   "cell_type": "code",
   "execution_count": 43,
   "id": "de128a5c",
   "metadata": {},
   "outputs": [
    {
     "name": "stdout",
     "output_type": "stream",
     "text": [
      "Original data:\n",
      "[[2 3 3 7]\n",
      " [3 6 9 6]\n",
      " [7 1 1 4]]\n",
      "Modified copy:\n",
      "[100   6   9   6   7]\n"
     ]
    }
   ],
   "source": [
    "#Q80. Create a NumPy array `data` of shape (3, 4) with random integers. Extract a copy `data_copy` of \n",
    "#     elements greater than 5. Modify an element in `data_copy` and verify if it affects the original `data`.\n",
    "\n",
    "\n",
    "\n",
    "data = np.random.randint(1, 10, size=(3, 4))\n",
    "\n",
    "\n",
    "data_copy = data[data > 5].copy()\n",
    "\n",
    "\n",
    "data_copy[0] = 100\n",
    "\n",
    "print(\"Original data:\")\n",
    "print(data)\n",
    "print(\"Modified copy:\")\n",
    "print(data_copy)\n"
   ]
  },
  {
   "cell_type": "code",
   "execution_count": 45,
   "id": "8d9a10c7",
   "metadata": {},
   "outputs": [
    {
     "name": "stdout",
     "output_type": "stream",
     "text": [
      "Matrix A:\n",
      "[[1 2]\n",
      " [3 4]]\n",
      "Matrix B:\n",
      "[[5 6]\n",
      " [7 8]]\n",
      "Addition result:\n",
      "[[ 6  8]\n",
      " [10 12]]\n",
      "Subtraction result:\n",
      "[[-4 -4]\n",
      " [-4 -4]]\n"
     ]
    }
   ],
   "source": [
    "#Q81. Create two matrices A and B of identical shape containing integers and perform addition and subtraction \n",
    "#      operations between them.\n",
    "\n",
    "\n",
    "\n",
    "A = np.array([[1, 2], [3, 4]])\n",
    "B = np.array([[5, 6], [7, 8]])\n",
    "\n",
    "\n",
    "addition_result = A + B\n",
    "subtraction_result = A - B\n",
    "\n",
    "print(\"Matrix A:\")\n",
    "print(A)\n",
    "print(\"Matrix B:\")\n",
    "print(B)\n",
    "print(\"Addition result:\")\n",
    "print(addition_result)\n",
    "print(\"Subtraction result:\")\n",
    "print(subtraction_result)\n"
   ]
  },
  {
   "cell_type": "code",
   "execution_count": 47,
   "id": "8ccd7fef",
   "metadata": {},
   "outputs": [
    {
     "name": "stdout",
     "output_type": "stream",
     "text": [
      "Matrix C:\n",
      "[[8 4]\n",
      " [9 6]\n",
      " [3 3]]\n",
      "Matrix D:\n",
      "[[7 6 1 7]\n",
      " [6 4 9 6]]\n",
      "Matrix multiplication result:\n",
      "[[80 64 44 80]\n",
      " [99 78 63 99]\n",
      " [39 30 30 39]]\n"
     ]
    }
   ],
   "source": [
    "#Q82. Generate two matrices `C` (3x2) and `D` (2x4) and perform matrix multiplication.\n",
    "\n",
    "\n",
    "\n",
    "\n",
    "\n",
    "C = np.random.randint(1, 10, size=(3, 2))\n",
    "D = np.random.randint(1, 10, size=(2, 4))\n",
    "\n",
    "\n",
    "multiplication_result = np.dot(C, D)\n",
    "\n",
    "print(\"Matrix C:\")\n",
    "print(C)\n",
    "print(\"Matrix D:\")\n",
    "print(D)\n",
    "print(\"Matrix multiplication result:\")\n",
    "print(multiplication_result)\n"
   ]
  },
  {
   "cell_type": "code",
   "execution_count": 49,
   "id": "04303b73",
   "metadata": {},
   "outputs": [
    {
     "name": "stdout",
     "output_type": "stream",
     "text": [
      "Matrix E:\n",
      "[[2 9 6 1]\n",
      " [2 4 2 1]\n",
      " [2 2 2 5]]\n",
      "Transpose of E:\n",
      "[[2 2 2]\n",
      " [9 4 2]\n",
      " [6 2 2]\n",
      " [1 1 5]]\n"
     ]
    }
   ],
   "source": [
    "#Q83. Create a matrix `E` and find its transpose.\n",
    "\n",
    "\n",
    "\n",
    "E = np.random.randint(1, 10, size=(3, 4))\n",
    "\n",
    "\n",
    "transpose_E = E.T\n",
    "\n",
    "print(\"Matrix E:\")\n",
    "print(E)\n",
    "print(\"Transpose of E:\")\n",
    "print(transpose_E)\n",
    "\n"
   ]
  },
  {
   "cell_type": "code",
   "execution_count": 50,
   "id": "25f6caa7",
   "metadata": {},
   "outputs": [
    {
     "name": "stdout",
     "output_type": "stream",
     "text": [
      "Matrix F:\n",
      "[[7 6 9]\n",
      " [6 7 3]\n",
      " [8 5 7]]\n",
      "Determinant of F:\n",
      "-103.99999999999999\n"
     ]
    }
   ],
   "source": [
    "#Q84. Generate a square matrix `F` and compute its determinant.\n",
    "\n",
    "\n",
    "\n",
    "F = np.random.randint(1, 10, size=(3, 3))\n",
    "\n",
    "\n",
    "det_F = np.linalg.det(F)\n",
    "\n",
    "print(\"Matrix F:\")\n",
    "print(F)\n",
    "print(\"Determinant of F:\")\n",
    "print(det_F)\n"
   ]
  },
  {
   "cell_type": "code",
   "execution_count": 51,
   "id": "b300538c",
   "metadata": {},
   "outputs": [
    {
     "name": "stdout",
     "output_type": "stream",
     "text": [
      "Matrix G:\n",
      "[[6 2 6]\n",
      " [7 1 1]\n",
      " [6 6 1]]\n",
      "Inverse of G:\n",
      "[[-0.02717391  0.18478261 -0.02173913]\n",
      " [-0.00543478 -0.16304348  0.19565217]\n",
      " [ 0.19565217 -0.13043478 -0.04347826]]\n"
     ]
    }
   ],
   "source": [
    "#Q85. Create a square matrix `G` and find its inverse.\n",
    "\n",
    "\n",
    "G = np.random.randint(1, 10, size=(3, 3))\n",
    "\n",
    "\n",
    "inverse_G = np.linalg.inv(G)\n",
    "\n",
    "print(\"Matrix G:\")\n",
    "print(G)\n",
    "print(\"Inverse of G:\")\n",
    "print(inverse_G)\n"
   ]
  },
  {
   "cell_type": "code",
   "execution_count": null,
   "id": "1b0e6014",
   "metadata": {},
   "outputs": [],
   "source": []
  }
 ],
 "metadata": {
  "kernelspec": {
   "display_name": "Python 3 (ipykernel)",
   "language": "python",
   "name": "python3"
  },
  "language_info": {
   "codemirror_mode": {
    "name": "ipython",
    "version": 3
   },
   "file_extension": ".py",
   "mimetype": "text/x-python",
   "name": "python",
   "nbconvert_exporter": "python",
   "pygments_lexer": "ipython3",
   "version": "3.9.7"
  }
 },
 "nbformat": 4,
 "nbformat_minor": 5
}
